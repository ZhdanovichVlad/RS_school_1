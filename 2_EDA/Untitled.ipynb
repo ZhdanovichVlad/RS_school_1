{
 "cells": [
  {
   "cell_type": "markdown",
   "id": "11a916da",
   "metadata": {},
   "source": [
    "# В даннном проекте проведем пример EDA по пассажирам на тинатинке"
   ]
  },
  {
   "cell_type": "code",
   "execution_count": 102,
   "id": "74aeaf61",
   "metadata": {},
   "outputs": [],
   "source": [
    "# Context"
   ]
  },
  {
   "cell_type": "code",
   "execution_count": 103,
   "id": "03a105c8",
   "metadata": {},
   "outputs": [],
   "source": [
    "# Импортирует библиотеки\n",
    "import pandas as pd\n",
    "import seaborn as sns\n",
    "import numpy as np\n",
    "import matplotlib.pyplot as plt\n",
    "from sklearn.feature_selection import f_classif, mutual_info_classif\n",
    "from sklearn.preprocessing import LabelEncoder"
   ]
  },
  {
   "cell_type": "code",
   "execution_count": 104,
   "id": "10663313",
   "metadata": {},
   "outputs": [],
   "source": [
    "# загружаем наш дата сет\n",
    "df = pd.read_csv('train.csv')"
   ]
  },
  {
   "cell_type": "code",
   "execution_count": 105,
   "id": "282e52d3",
   "metadata": {},
   "outputs": [],
   "source": [
    "#Напишем пару полезных функций для анализа.\n",
    "# -----------------------------------------------------------------------\n",
    "def look_at_col(df, col_name):\n",
    "    '''Данная функция принимает в качестве аргументов датасет и название\n",
    "    колонки в str формате, и возвращает уникальные значение, моду,\n",
    "    так же гистограмму и discribe по отношению к указанному столбцу\n",
    "    '''\n",
    "\n",
    "    print(f\"Анализируем столбец {col_name} \")\n",
    "    print(f\"Уникальные значения : {df[col_name].unique()}\")\n",
    "    print(\"---------------------------------------------------------\")\n",
    "    print(f\"Кол-во нулевых значений {df[col_name].isnull().sum()} \")\n",
    "    print(\"Мода -\", df[col_name].mode())\n",
    "    print(df[col_name].describe())\n",
    "    print('Численное распределение')\n",
    "    print(df[col_name].value_counts())\n",
    "    plt.figure(figsize=(16,8))\n",
    "    ax = sns.countplot(x=col_name, data=df)\n",
    "    plt.title(f'Гистограмма к столбцу {col_name}')\n",
    "    plt.ylabel(\"Количество\")\n",
    "    ax.tick_params(axis='x', labelrotation=90)"
   ]
  },
  {
   "cell_type": "markdown",
   "id": "2be8ba13",
   "metadata": {},
   "source": [
    "# Data quality assessment"
   ]
  },
  {
   "cell_type": "code",
   "execution_count": 106,
   "id": "ce0a9272",
   "metadata": {},
   "outputs": [
    {
     "name": "stdout",
     "output_type": "stream",
     "text": [
      "<class 'pandas.core.frame.DataFrame'>\n",
      "RangeIndex: 100000 entries, 0 to 99999\n",
      "Data columns (total 12 columns):\n",
      " #   Column       Non-Null Count   Dtype  \n",
      "---  ------       --------------   -----  \n",
      " 0   PassengerId  100000 non-null  int64  \n",
      " 1   Survived     100000 non-null  int64  \n",
      " 2   Pclass       100000 non-null  int64  \n",
      " 3   Name         100000 non-null  object \n",
      " 4   Sex          100000 non-null  object \n",
      " 5   Age          96708 non-null   float64\n",
      " 6   SibSp        100000 non-null  int64  \n",
      " 7   Parch        100000 non-null  int64  \n",
      " 8   Ticket       95377 non-null   object \n",
      " 9   Fare         99866 non-null   float64\n",
      " 10  Cabin        32134 non-null   object \n",
      " 11  Embarked     99750 non-null   object \n",
      "dtypes: float64(2), int64(5), object(5)\n",
      "memory usage: 9.2+ MB\n"
     ]
    }
   ],
   "source": [
    "df.info()"
   ]
  },
  {
   "cell_type": "markdown",
   "id": "346ed35a",
   "metadata": {},
   "source": [
    "Краткое описание данных\n",
    "В данных всего 11 призаков.    \n",
    "PassengerId  - ID пассажира. Данные заполнены на 100%   \n",
    "Survived - Отметка выжил человек, или нет. Данные заполнены на 100% \n",
    "Pclass – Класс билета. Данные заполнены на 100%    \n",
    "Name - Имя пассажира. В формате (Фамилия, Имя) Данные заполнены на 100%    \n",
    "Sex - пол пассажира. Данные заполнены на 100%.    \n",
    "Age - возраст пассажира. 3292 пропусков что 0,03292 % от всей выборки.    \n",
    "Sibs- Количество братьев и сестер / супругов на борту Титаника. Данные заполнены на 100%.    \n",
    "Parch- родителей/детей на борту Титаника. Данные заполнены на 100%.             \n",
    "Ticket - номер билета. 4623 пропусков, что 0,04623% от всей выборки. Данную переменную мы анализировать не будем, т.к. слишком много пропусков.   \n",
    "Fare - стоимость билета -134 пропусков, что -0,00134% от всей выборки.    \n",
    "Cabin - номер кабины. Пропуски 67866 в данных 0,67866 % пропусков. Стобец вообще не информативен.    \n",
    "Embarked - порт погрузки. 250 пропусков. что  0,0025 %    "
   ]
  },
  {
   "cell_type": "markdown",
   "id": "0fdcd86f",
   "metadata": {},
   "source": [
    "# Посмотрим на данные по ближе. "
   ]
  },
  {
   "cell_type": "markdown",
   "id": "d39490c4",
   "metadata": {},
   "source": [
    "Для начала посмотрим распределение каждой переменной, а после рассмотрим взаимосвязь между переменными."
   ]
  },
  {
   "cell_type": "markdown",
   "id": "824c111b",
   "metadata": {},
   "source": [
    "## PassengerId. "
   ]
  },
  {
   "cell_type": "code",
   "execution_count": 107,
   "id": "f3307577",
   "metadata": {},
   "outputs": [
    {
     "data": {
      "text/plain": [
       "100000"
      ]
     },
     "execution_count": 107,
     "metadata": {},
     "output_type": "execute_result"
    }
   ],
   "source": [
    "# проверим данные на дубликаты\n",
    "len(df.PassengerId.unique())"
   ]
  },
  {
   "cell_type": "markdown",
   "id": "60eb4e62",
   "metadata": {},
   "source": [
    "Уникальные данные. Каждый пассажир имеет свой уникальный номер. Дубликатов нету."
   ]
  },
  {
   "cell_type": "markdown",
   "id": "324d8581",
   "metadata": {},
   "source": [
    "# Survived"
   ]
  },
  {
   "cell_type": "code",
   "execution_count": 108,
   "id": "bcfe3f51",
   "metadata": {},
   "outputs": [
    {
     "data": {
      "text/plain": [
       "2"
      ]
     },
     "execution_count": 108,
     "metadata": {},
     "output_type": "execute_result"
    }
   ],
   "source": [
    "len(df.Survived.unique())"
   ]
  },
  {
   "cell_type": "markdown",
   "id": "4b3af1d1",
   "metadata": {},
   "source": [
    "Бинарная переменная. Имеет всего два значения 1 и 0. "
   ]
  },
  {
   "cell_type": "markdown",
   "id": "e3b9c851",
   "metadata": {},
   "source": [
    "## Pclass"
   ]
  },
  {
   "cell_type": "markdown",
   "id": "5849efc4",
   "metadata": {},
   "source": [
    "PClass - категориальные данные. Которые имеют всего три значения, соответствующие классу пассажира."
   ]
  },
  {
   "cell_type": "code",
   "execution_count": 109,
   "id": "8402d395",
   "metadata": {},
   "outputs": [
    {
     "name": "stdout",
     "output_type": "stream",
     "text": [
      "Анализируем столбец Pclass \n",
      "Уникальные значения : [1 3 2]\n",
      "---------------------------------------------------------\n",
      "Кол-во нулевых значений 0 \n",
      "Мода - 0    3\n",
      "dtype: int64\n",
      "count    100000.000000\n",
      "mean          2.106910\n",
      "std           0.837727\n",
      "min           1.000000\n",
      "25%           1.000000\n",
      "50%           2.000000\n",
      "75%           3.000000\n",
      "max           3.000000\n",
      "Name: Pclass, dtype: float64\n",
      "Численное распределение\n",
      "3    41006\n",
      "1    30315\n",
      "2    28679\n",
      "Name: Pclass, dtype: int64\n"
     ]
    },
    {
     "data": {
      "image/png": "[encoded data removed]",
      "text/plain": [
       "<Figure size 1152x576 with 1 Axes>"
      ]
     },
     "metadata": {
      "needs_background": "light"
     },
     "output_type": "display_data"
    }
   ],
   "source": [
    "look_at_col(df,'Pclass')"
   ]
  },
  {
   "cell_type": "markdown",
   "id": "14adc318",
   "metadata": {},
   "source": [
    "Как мы видим на графике, пассажиров третьего класса больше всего. Почти на 10 000 больше чем у остальных."
   ]
  },
  {
   "cell_type": "markdown",
   "id": "00b58984",
   "metadata": {},
   "source": [
    "## Name. "
   ]
  },
  {
   "cell_type": "code",
   "execution_count": 110,
   "id": "71791138",
   "metadata": {},
   "outputs": [
    {
     "data": {
      "text/plain": [
       "92144"
      ]
     },
     "execution_count": 110,
     "metadata": {},
     "output_type": "execute_result"
    }
   ],
   "source": [
    "#узнаем количество уникальный значений.\n",
    "len(df.Name.unique())"
   ]
  },
  {
   "cell_type": "markdown",
   "id": "0dbf4775",
   "metadata": {},
   "source": [
    "А вот тут интересно. Признак заполнен на 100% а у нас всего 92144 уникальных значений. Значит у нас есть 7856 людей с одинаковыми именами и фамилиями.    \n",
    "Посмотрим на топ пять самых популярных фамилий и имен. "
   ]
  },
  {
   "cell_type": "code",
   "execution_count": 111,
   "id": "abaee108",
   "metadata": {},
   "outputs": [
    {
     "data": {
      "text/plain": [
       "Johnson, John       31\n",
       "Smith, James        24\n",
       "Smith, John         24\n",
       "Johnson, William    22\n",
       "Smith, Michael      20\n",
       "Name: Name, dtype: int64"
      ]
     },
     "execution_count": 111,
     "metadata": {},
     "output_type": "execute_result"
    }
   ],
   "source": [
    "df['Name'].value_counts().head(5)"
   ]
  },
  {
   "cell_type": "markdown",
   "id": "7fbd41e5",
   "metadata": {},
   "source": [
    "Теперь посмотрим отдельно на фамилию и имя отдельно друг от друга."
   ]
  },
  {
   "cell_type": "code",
   "execution_count": 112,
   "id": "774dfe63",
   "metadata": {},
   "outputs": [],
   "source": [
    "df['First_name'] = df['Name'].apply(lambda x: x.split(', ')[1])"
   ]
  },
  {
   "cell_type": "code",
   "execution_count": 113,
   "id": "f6b8bca8",
   "metadata": {},
   "outputs": [],
   "source": [
    "df['surname'] = df['Name'].apply(lambda x: x.split(', ')[0])"
   ]
  },
  {
   "cell_type": "code",
   "execution_count": 114,
   "id": "afa0f65e",
   "metadata": {},
   "outputs": [
    {
     "data": {
      "text/plain": [
       "Smith       1162\n",
       "Johnson      950\n",
       "Williams     733\n",
       "Jones        681\n",
       "Brown        665\n",
       "Davis        519\n",
       "Miller       427\n",
       "Thomas       374\n",
       "Wilson       371\n",
       "Moore        363\n",
       "Name: surname, dtype: int64"
      ]
     },
     "execution_count": 114,
     "metadata": {},
     "output_type": "execute_result"
    }
   ],
   "source": [
    "df['surname'].value_counts().head(10)"
   ]
  },
  {
   "cell_type": "code",
   "execution_count": 115,
   "id": "14260d5f",
   "metadata": {},
   "outputs": [
    {
     "data": {
      "text/plain": [
       "James      2112\n",
       "John       2087\n",
       "Robert     1951\n",
       "Michael    1685\n",
       "William    1525\n",
       "David      1501\n",
       "Mary       1274\n",
       "Richard    1119\n",
       "Charles     931\n",
       "Thomas      869\n",
       "Name: First_name, dtype: int64"
      ]
     },
     "execution_count": 115,
     "metadata": {},
     "output_type": "execute_result"
    }
   ],
   "source": [
    "df['First_name'].value_counts().head(10)"
   ]
  },
  {
   "cell_type": "markdown",
   "id": "7fc70803",
   "metadata": {},
   "source": [
    "Как мы видим выше. На Титанике было 1162 разных Smith. Видимо это была очень популярная фамилия в то время.\n",
    "А самым популярным именем был James."
   ]
  },
  {
   "cell_type": "markdown",
   "id": "a71b761a",
   "metadata": {},
   "source": [
    "## Sex"
   ]
  },
  {
   "cell_type": "code",
   "execution_count": 116,
   "id": "d27ec3da",
   "metadata": {},
   "outputs": [
    {
     "name": "stdout",
     "output_type": "stream",
     "text": [
      "Анализируем столбец Sex \n",
      "Уникальные значения : ['male' 'female']\n",
      "---------------------------------------------------------\n",
      "Кол-во нулевых значений 0 \n",
      "Мода - 0    male\n",
      "dtype: object\n",
      "count     100000\n",
      "unique         2\n",
      "top         male\n",
      "freq       56114\n",
      "Name: Sex, dtype: object\n",
      "Численное распределение\n",
      "male      56114\n",
      "female    43886\n",
      "Name: Sex, dtype: int64\n"
     ]
    },
    {
     "data": {
      "image/png": "[encoded data removed]",
      "text/plain": [
       "<Figure size 1152x576 with 1 Axes>"
      ]
     },
     "metadata": {
      "needs_background": "light"
     },
     "output_type": "display_data"
    }
   ],
   "source": [
    "look_at_col(df,'Sex')"
   ]
  },
  {
   "cell_type": "markdown",
   "id": "d5e1c60f",
   "metadata": {},
   "source": [
    "Как видим, на борту у нас больше всего мужчин."
   ]
  },
  {
   "cell_type": "markdown",
   "id": "2d3293c2",
   "metadata": {},
   "source": [
    "## Age          "
   ]
  },
  {
   "cell_type": "markdown",
   "id": "3c9ef6fc",
   "metadata": {},
   "source": [
    "В связи с тем, что признак храниться в формате float64 и содержит дробные части, то приведем весь столбец к типу int, чтобы облегчить анализ."
   ]
  },
  {
   "cell_type": "code",
   "execution_count": 117,
   "id": "03f1ac9d",
   "metadata": {},
   "outputs": [],
   "source": [
    "df['Age'] = df['Age'].apply(lambda x: np.nan if np.isnan(x) else int(x) )"
   ]
  },
  {
   "cell_type": "code",
   "execution_count": 118,
   "id": "5efcf965",
   "metadata": {},
   "outputs": [
    {
     "name": "stdout",
     "output_type": "stream",
     "text": [
      "Анализируем столбец Age \n",
      "Уникальные значения : [nan  0. 19. 25. 35.  7.  6. 27. 66. 31. 60. 36. 50. 44. 57. 53. 43. 61.\n",
      " 17. 39. 59. 23. 21. 26.  5. 67. 54. 69. 22. 68. 71. 63. 47. 45. 34.  3.\n",
      " 28. 37. 64. 58. 56. 40. 38. 20.  8. 70. 11. 49. 52. 48. 41. 32. 62. 55.\n",
      " 65. 46.  2. 42. 29. 51. 14. 24. 30. 33. 18. 79. 12.  9.  1. 15. 10. 72.\n",
      " 77. 73.  4. 16. 80. 13. 74. 75. 76. 81. 78. 84. 83. 85. 82. 87. 86.]\n",
      "---------------------------------------------------------\n",
      "Кол-во нулевых значений 3292 \n",
      "Мода - 0    25.0\n",
      "dtype: float64\n",
      "count    96708.000000\n",
      "mean        38.349557\n",
      "std         18.320425\n",
      "min          0.000000\n",
      "25%         25.000000\n",
      "50%         39.000000\n",
      "75%         53.000000\n",
      "max         87.000000\n",
      "Name: Age, dtype: float64\n",
      "Численное распределение\n",
      "25.0    2368\n",
      "23.0    2355\n",
      "26.0    2332\n",
      "24.0    2313\n",
      "27.0    2100\n",
      "        ... \n",
      "82.0       9\n",
      "85.0       4\n",
      "84.0       3\n",
      "86.0       2\n",
      "87.0       1\n",
      "Name: Age, Length: 88, dtype: int64\n"
     ]
    },
    {
     "data": {
      "image/png": "[encoded data removed]",
      "text/plain": [
       "<Figure size 1152x576 with 1 Axes>"
      ]
     },
     "metadata": {
      "needs_background": "light"
     },
     "output_type": "display_data"
    }
   ],
   "source": [
    "look_at_col(df,'Age')"
   ]
  },
  {
   "cell_type": "code",
   "execution_count": 119,
   "id": "d767d0a2",
   "metadata": {},
   "outputs": [
    {
     "data": {
      "text/plain": [
       "39.0"
      ]
     },
     "execution_count": 119,
     "metadata": {},
     "output_type": "execute_result"
    }
   ],
   "source": [
    "# посомтрим ещё на медиану.\n",
    "df['Age'].median()"
   ]
  },
  {
   "cell_type": "markdown",
   "id": "b10f9f45",
   "metadata": {},
   "source": [
    "Выборка распределена неравномерно.    \n",
    "Больше всего у нас людей в возрасте от 20 до 30.    \n",
    "Медиана - 39 лет.    \n",
    "средний возраст 38 лет.    \n",
    "а мода 25 лет.    \n",
    "Наиболее ярко у нас выделены 4 группы.    \n",
    "1 - дети до 10 лет.    \n",
    "2 - люди в возрасте от 20 до 30.    \n",
    "3 - в возрасте от 30 до 40.    \n",
    "4 - в возрасте от 40 до 58.    "
   ]
  },
  {
   "cell_type": "markdown",
   "id": "5f200c92",
   "metadata": {},
   "source": [
    "# SibSp"
   ]
  },
  {
   "cell_type": "code",
   "execution_count": 120,
   "id": "1f8bf9c9",
   "metadata": {},
   "outputs": [
    {
     "name": "stdout",
     "output_type": "stream",
     "text": [
      "Анализируем столбец SibSp \n",
      "Уникальные значения : [2 0 1 3 4 8 5]\n",
      "---------------------------------------------------------\n",
      "Кол-во нулевых значений 0 \n",
      "Мода - 0    0\n",
      "dtype: int64\n",
      "count    100000.000000\n",
      "mean          0.397690\n",
      "std           0.862566\n",
      "min           0.000000\n",
      "25%           0.000000\n",
      "50%           0.000000\n",
      "75%           1.000000\n",
      "max           8.000000\n",
      "Name: SibSp, dtype: float64\n",
      "Численное распределение\n",
      "0    73308\n",
      "1    19758\n",
      "2     3703\n",
      "3     1635\n",
      "4     1168\n",
      "8      296\n",
      "5      132\n",
      "Name: SibSp, dtype: int64\n"
     ]
    },
    {
     "data": {
      "image/png": "[encoded data removed]",
      "text/plain": [
       "<Figure size 1152x576 with 1 Axes>"
      ]
     },
     "metadata": {
      "needs_background": "light"
     },
     "output_type": "display_data"
    }
   ],
   "source": [
    "look_at_col(df, 'SibSp')"
   ]
  },
  {
   "cell_type": "code",
   "execution_count": 121,
   "id": "043de24f",
   "metadata": {},
   "outputs": [
    {
     "data": {
      "text/html": [
       "<div>\n",
       "<style scoped>\n",
       "    .dataframe tbody tr th:only-of-type {\n",
       "        vertical-align: middle;\n",
       "    }\n",
       "\n",
       "    .dataframe tbody tr th {\n",
       "        vertical-align: top;\n",
       "    }\n",
       "\n",
       "    .dataframe thead th {\n",
       "        text-align: right;\n",
       "    }\n",
       "</style>\n",
       "<table border=\"1\" class=\"dataframe\">\n",
       "  <thead>\n",
       "    <tr style=\"text-align: right;\">\n",
       "      <th></th>\n",
       "      <th>PassengerId</th>\n",
       "      <th>Survived</th>\n",
       "      <th>Pclass</th>\n",
       "      <th>Name</th>\n",
       "      <th>Sex</th>\n",
       "      <th>Age</th>\n",
       "      <th>SibSp</th>\n",
       "      <th>Parch</th>\n",
       "      <th>Ticket</th>\n",
       "      <th>Fare</th>\n",
       "      <th>Cabin</th>\n",
       "      <th>Embarked</th>\n",
       "      <th>First_name</th>\n",
       "      <th>surname</th>\n",
       "    </tr>\n",
       "  </thead>\n",
       "  <tbody>\n",
       "    <tr>\n",
       "      <th>204</th>\n",
       "      <td>204</td>\n",
       "      <td>1</td>\n",
       "      <td>3</td>\n",
       "      <td>Bennett, Shirley</td>\n",
       "      <td>female</td>\n",
       "      <td>12.0</td>\n",
       "      <td>8</td>\n",
       "      <td>1</td>\n",
       "      <td>21620</td>\n",
       "      <td>12.51</td>\n",
       "      <td>NaN</td>\n",
       "      <td>C</td>\n",
       "      <td>Shirley</td>\n",
       "      <td>Bennett</td>\n",
       "    </tr>\n",
       "    <tr>\n",
       "      <th>692</th>\n",
       "      <td>692</td>\n",
       "      <td>0</td>\n",
       "      <td>2</td>\n",
       "      <td>Gomes, James</td>\n",
       "      <td>male</td>\n",
       "      <td>35.0</td>\n",
       "      <td>8</td>\n",
       "      <td>2</td>\n",
       "      <td>A/5</td>\n",
       "      <td>24.55</td>\n",
       "      <td>NaN</td>\n",
       "      <td>S</td>\n",
       "      <td>James</td>\n",
       "      <td>Gomes</td>\n",
       "    </tr>\n",
       "    <tr>\n",
       "      <th>708</th>\n",
       "      <td>708</td>\n",
       "      <td>0</td>\n",
       "      <td>1</td>\n",
       "      <td>Ulloa, Mathew</td>\n",
       "      <td>male</td>\n",
       "      <td>53.0</td>\n",
       "      <td>8</td>\n",
       "      <td>1</td>\n",
       "      <td>13352</td>\n",
       "      <td>195.94</td>\n",
       "      <td>A7232</td>\n",
       "      <td>S</td>\n",
       "      <td>Mathew</td>\n",
       "      <td>Ulloa</td>\n",
       "    </tr>\n",
       "    <tr>\n",
       "      <th>1000</th>\n",
       "      <td>1000</td>\n",
       "      <td>1</td>\n",
       "      <td>3</td>\n",
       "      <td>Harper, Barbara</td>\n",
       "      <td>female</td>\n",
       "      <td>33.0</td>\n",
       "      <td>8</td>\n",
       "      <td>1</td>\n",
       "      <td>28882</td>\n",
       "      <td>64.99</td>\n",
       "      <td>NaN</td>\n",
       "      <td>S</td>\n",
       "      <td>Barbara</td>\n",
       "      <td>Harper</td>\n",
       "    </tr>\n",
       "    <tr>\n",
       "      <th>1230</th>\n",
       "      <td>1230</td>\n",
       "      <td>0</td>\n",
       "      <td>3</td>\n",
       "      <td>Carlson, Douglas</td>\n",
       "      <td>male</td>\n",
       "      <td>29.0</td>\n",
       "      <td>8</td>\n",
       "      <td>1</td>\n",
       "      <td>338099</td>\n",
       "      <td>9.26</td>\n",
       "      <td>NaN</td>\n",
       "      <td>S</td>\n",
       "      <td>Douglas</td>\n",
       "      <td>Carlson</td>\n",
       "    </tr>\n",
       "    <tr>\n",
       "      <th>1367</th>\n",
       "      <td>1367</td>\n",
       "      <td>0</td>\n",
       "      <td>2</td>\n",
       "      <td>Fairhurst, Eric</td>\n",
       "      <td>male</td>\n",
       "      <td>7.0</td>\n",
       "      <td>8</td>\n",
       "      <td>2</td>\n",
       "      <td>418122</td>\n",
       "      <td>87.46</td>\n",
       "      <td>B7602</td>\n",
       "      <td>S</td>\n",
       "      <td>Eric</td>\n",
       "      <td>Fairhurst</td>\n",
       "    </tr>\n",
       "    <tr>\n",
       "      <th>2082</th>\n",
       "      <td>2082</td>\n",
       "      <td>0</td>\n",
       "      <td>1</td>\n",
       "      <td>Penney, Mary</td>\n",
       "      <td>female</td>\n",
       "      <td>1.0</td>\n",
       "      <td>8</td>\n",
       "      <td>1</td>\n",
       "      <td>10707</td>\n",
       "      <td>29.14</td>\n",
       "      <td>NaN</td>\n",
       "      <td>S</td>\n",
       "      <td>Mary</td>\n",
       "      <td>Penney</td>\n",
       "    </tr>\n",
       "    <tr>\n",
       "      <th>2896</th>\n",
       "      <td>2896</td>\n",
       "      <td>0</td>\n",
       "      <td>3</td>\n",
       "      <td>Shary, Russell</td>\n",
       "      <td>male</td>\n",
       "      <td>52.0</td>\n",
       "      <td>8</td>\n",
       "      <td>1</td>\n",
       "      <td>A/4 21984</td>\n",
       "      <td>22.77</td>\n",
       "      <td>A2101</td>\n",
       "      <td>S</td>\n",
       "      <td>Russell</td>\n",
       "      <td>Shary</td>\n",
       "    </tr>\n",
       "    <tr>\n",
       "      <th>2955</th>\n",
       "      <td>2955</td>\n",
       "      <td>0</td>\n",
       "      <td>2</td>\n",
       "      <td>Godina, Donte</td>\n",
       "      <td>male</td>\n",
       "      <td>28.0</td>\n",
       "      <td>8</td>\n",
       "      <td>1</td>\n",
       "      <td>438614</td>\n",
       "      <td>32.13</td>\n",
       "      <td>NaN</td>\n",
       "      <td>C</td>\n",
       "      <td>Donte</td>\n",
       "      <td>Godina</td>\n",
       "    </tr>\n",
       "    <tr>\n",
       "      <th>3685</th>\n",
       "      <td>3685</td>\n",
       "      <td>1</td>\n",
       "      <td>1</td>\n",
       "      <td>Mcfarland, Wanda</td>\n",
       "      <td>female</td>\n",
       "      <td>29.0</td>\n",
       "      <td>8</td>\n",
       "      <td>0</td>\n",
       "      <td>21804</td>\n",
       "      <td>28.23</td>\n",
       "      <td>C14426</td>\n",
       "      <td>S</td>\n",
       "      <td>Wanda</td>\n",
       "      <td>Mcfarland</td>\n",
       "    </tr>\n",
       "    <tr>\n",
       "      <th>3709</th>\n",
       "      <td>3709</td>\n",
       "      <td>0</td>\n",
       "      <td>3</td>\n",
       "      <td>Wright, Tracy</td>\n",
       "      <td>male</td>\n",
       "      <td>12.0</td>\n",
       "      <td>8</td>\n",
       "      <td>1</td>\n",
       "      <td>19754</td>\n",
       "      <td>28.42</td>\n",
       "      <td>NaN</td>\n",
       "      <td>S</td>\n",
       "      <td>Tracy</td>\n",
       "      <td>Wright</td>\n",
       "    </tr>\n",
       "    <tr>\n",
       "      <th>3839</th>\n",
       "      <td>3839</td>\n",
       "      <td>1</td>\n",
       "      <td>3</td>\n",
       "      <td>Hatley, Dora</td>\n",
       "      <td>female</td>\n",
       "      <td>NaN</td>\n",
       "      <td>8</td>\n",
       "      <td>1</td>\n",
       "      <td>409783</td>\n",
       "      <td>26.09</td>\n",
       "      <td>NaN</td>\n",
       "      <td>S</td>\n",
       "      <td>Dora</td>\n",
       "      <td>Hatley</td>\n",
       "    </tr>\n",
       "    <tr>\n",
       "      <th>4663</th>\n",
       "      <td>4663</td>\n",
       "      <td>0</td>\n",
       "      <td>1</td>\n",
       "      <td>Hill, Veronica</td>\n",
       "      <td>female</td>\n",
       "      <td>40.0</td>\n",
       "      <td>8</td>\n",
       "      <td>2</td>\n",
       "      <td>194548</td>\n",
       "      <td>205.55</td>\n",
       "      <td>C17218</td>\n",
       "      <td>C</td>\n",
       "      <td>Veronica</td>\n",
       "      <td>Hill</td>\n",
       "    </tr>\n",
       "    <tr>\n",
       "      <th>5296</th>\n",
       "      <td>5296</td>\n",
       "      <td>1</td>\n",
       "      <td>3</td>\n",
       "      <td>Jackson, Rafael</td>\n",
       "      <td>male</td>\n",
       "      <td>33.0</td>\n",
       "      <td>8</td>\n",
       "      <td>0</td>\n",
       "      <td>A/5. 428554</td>\n",
       "      <td>11.65</td>\n",
       "      <td>NaN</td>\n",
       "      <td>C</td>\n",
       "      <td>Rafael</td>\n",
       "      <td>Jackson</td>\n",
       "    </tr>\n",
       "    <tr>\n",
       "      <th>5603</th>\n",
       "      <td>5603</td>\n",
       "      <td>1</td>\n",
       "      <td>2</td>\n",
       "      <td>Schwartz, Yvonne</td>\n",
       "      <td>female</td>\n",
       "      <td>54.0</td>\n",
       "      <td>8</td>\n",
       "      <td>1</td>\n",
       "      <td>3955066</td>\n",
       "      <td>33.78</td>\n",
       "      <td>NaN</td>\n",
       "      <td>S</td>\n",
       "      <td>Yvonne</td>\n",
       "      <td>Schwartz</td>\n",
       "    </tr>\n",
       "    <tr>\n",
       "      <th>5653</th>\n",
       "      <td>5653</td>\n",
       "      <td>0</td>\n",
       "      <td>2</td>\n",
       "      <td>Rodgers, James</td>\n",
       "      <td>male</td>\n",
       "      <td>60.0</td>\n",
       "      <td>8</td>\n",
       "      <td>0</td>\n",
       "      <td>3864430</td>\n",
       "      <td>29.57</td>\n",
       "      <td>NaN</td>\n",
       "      <td>S</td>\n",
       "      <td>James</td>\n",
       "      <td>Rodgers</td>\n",
       "    </tr>\n",
       "    <tr>\n",
       "      <th>6072</th>\n",
       "      <td>6072</td>\n",
       "      <td>1</td>\n",
       "      <td>3</td>\n",
       "      <td>Lile, Joan</td>\n",
       "      <td>female</td>\n",
       "      <td>10.0</td>\n",
       "      <td>8</td>\n",
       "      <td>5</td>\n",
       "      <td>327802</td>\n",
       "      <td>29.15</td>\n",
       "      <td>NaN</td>\n",
       "      <td>C</td>\n",
       "      <td>Joan</td>\n",
       "      <td>Lile</td>\n",
       "    </tr>\n",
       "    <tr>\n",
       "      <th>6407</th>\n",
       "      <td>6407</td>\n",
       "      <td>0</td>\n",
       "      <td>2</td>\n",
       "      <td>Spence, Eric</td>\n",
       "      <td>male</td>\n",
       "      <td>30.0</td>\n",
       "      <td>8</td>\n",
       "      <td>1</td>\n",
       "      <td>WE/P 28383</td>\n",
       "      <td>9.11</td>\n",
       "      <td>NaN</td>\n",
       "      <td>S</td>\n",
       "      <td>Eric</td>\n",
       "      <td>Spence</td>\n",
       "    </tr>\n",
       "    <tr>\n",
       "      <th>6647</th>\n",
       "      <td>6647</td>\n",
       "      <td>0</td>\n",
       "      <td>1</td>\n",
       "      <td>Powell, Francesco</td>\n",
       "      <td>male</td>\n",
       "      <td>9.0</td>\n",
       "      <td>8</td>\n",
       "      <td>2</td>\n",
       "      <td>450507</td>\n",
       "      <td>137.19</td>\n",
       "      <td>A10383</td>\n",
       "      <td>S</td>\n",
       "      <td>Francesco</td>\n",
       "      <td>Powell</td>\n",
       "    </tr>\n",
       "    <tr>\n",
       "      <th>6813</th>\n",
       "      <td>6813</td>\n",
       "      <td>0</td>\n",
       "      <td>3</td>\n",
       "      <td>Mills, Herbert</td>\n",
       "      <td>male</td>\n",
       "      <td>18.0</td>\n",
       "      <td>8</td>\n",
       "      <td>2</td>\n",
       "      <td>426476</td>\n",
       "      <td>59.68</td>\n",
       "      <td>NaN</td>\n",
       "      <td>S</td>\n",
       "      <td>Herbert</td>\n",
       "      <td>Mills</td>\n",
       "    </tr>\n",
       "    <tr>\n",
       "      <th>7033</th>\n",
       "      <td>7033</td>\n",
       "      <td>1</td>\n",
       "      <td>3</td>\n",
       "      <td>Bartlett, Mary</td>\n",
       "      <td>female</td>\n",
       "      <td>21.0</td>\n",
       "      <td>8</td>\n",
       "      <td>1</td>\n",
       "      <td>328975</td>\n",
       "      <td>83.48</td>\n",
       "      <td>NaN</td>\n",
       "      <td>S</td>\n",
       "      <td>Mary</td>\n",
       "      <td>Bartlett</td>\n",
       "    </tr>\n",
       "    <tr>\n",
       "      <th>7167</th>\n",
       "      <td>7167</td>\n",
       "      <td>1</td>\n",
       "      <td>3</td>\n",
       "      <td>Crutcher, Tammy</td>\n",
       "      <td>female</td>\n",
       "      <td>0.0</td>\n",
       "      <td>8</td>\n",
       "      <td>1</td>\n",
       "      <td>495603</td>\n",
       "      <td>26.07</td>\n",
       "      <td>NaN</td>\n",
       "      <td>S</td>\n",
       "      <td>Tammy</td>\n",
       "      <td>Crutcher</td>\n",
       "    </tr>\n",
       "    <tr>\n",
       "      <th>7980</th>\n",
       "      <td>7980</td>\n",
       "      <td>1</td>\n",
       "      <td>3</td>\n",
       "      <td>Tolar, Timothy</td>\n",
       "      <td>male</td>\n",
       "      <td>20.0</td>\n",
       "      <td>8</td>\n",
       "      <td>1</td>\n",
       "      <td>397951</td>\n",
       "      <td>32.13</td>\n",
       "      <td>NaN</td>\n",
       "      <td>S</td>\n",
       "      <td>Timothy</td>\n",
       "      <td>Tolar</td>\n",
       "    </tr>\n",
       "    <tr>\n",
       "      <th>8924</th>\n",
       "      <td>8924</td>\n",
       "      <td>0</td>\n",
       "      <td>3</td>\n",
       "      <td>Nelson, Gabriel</td>\n",
       "      <td>male</td>\n",
       "      <td>6.0</td>\n",
       "      <td>8</td>\n",
       "      <td>2</td>\n",
       "      <td>NaN</td>\n",
       "      <td>7.19</td>\n",
       "      <td>NaN</td>\n",
       "      <td>S</td>\n",
       "      <td>Gabriel</td>\n",
       "      <td>Nelson</td>\n",
       "    </tr>\n",
       "    <tr>\n",
       "      <th>8954</th>\n",
       "      <td>8954</td>\n",
       "      <td>0</td>\n",
       "      <td>2</td>\n",
       "      <td>Berg, Jennifer</td>\n",
       "      <td>female</td>\n",
       "      <td>21.0</td>\n",
       "      <td>8</td>\n",
       "      <td>0</td>\n",
       "      <td>4043846</td>\n",
       "      <td>10.06</td>\n",
       "      <td>NaN</td>\n",
       "      <td>S</td>\n",
       "      <td>Jennifer</td>\n",
       "      <td>Berg</td>\n",
       "    </tr>\n",
       "    <tr>\n",
       "      <th>9208</th>\n",
       "      <td>9208</td>\n",
       "      <td>1</td>\n",
       "      <td>3</td>\n",
       "      <td>Clark, Susan</td>\n",
       "      <td>female</td>\n",
       "      <td>9.0</td>\n",
       "      <td>8</td>\n",
       "      <td>1</td>\n",
       "      <td>451293</td>\n",
       "      <td>31.13</td>\n",
       "      <td>NaN</td>\n",
       "      <td>C</td>\n",
       "      <td>Susan</td>\n",
       "      <td>Clark</td>\n",
       "    </tr>\n",
       "    <tr>\n",
       "      <th>9847</th>\n",
       "      <td>9847</td>\n",
       "      <td>0</td>\n",
       "      <td>3</td>\n",
       "      <td>Boothe, William</td>\n",
       "      <td>male</td>\n",
       "      <td>1.0</td>\n",
       "      <td>8</td>\n",
       "      <td>1</td>\n",
       "      <td>C.A. 196550</td>\n",
       "      <td>29.88</td>\n",
       "      <td>NaN</td>\n",
       "      <td>S</td>\n",
       "      <td>William</td>\n",
       "      <td>Boothe</td>\n",
       "    </tr>\n",
       "    <tr>\n",
       "      <th>9859</th>\n",
       "      <td>9859</td>\n",
       "      <td>1</td>\n",
       "      <td>2</td>\n",
       "      <td>Spencer, Kaylene</td>\n",
       "      <td>female</td>\n",
       "      <td>3.0</td>\n",
       "      <td>8</td>\n",
       "      <td>1</td>\n",
       "      <td>330616</td>\n",
       "      <td>28.91</td>\n",
       "      <td>NaN</td>\n",
       "      <td>S</td>\n",
       "      <td>Kaylene</td>\n",
       "      <td>Spencer</td>\n",
       "    </tr>\n",
       "    <tr>\n",
       "      <th>10489</th>\n",
       "      <td>10489</td>\n",
       "      <td>0</td>\n",
       "      <td>3</td>\n",
       "      <td>Schmidt, Daniel</td>\n",
       "      <td>male</td>\n",
       "      <td>0.0</td>\n",
       "      <td>8</td>\n",
       "      <td>2</td>\n",
       "      <td>12655</td>\n",
       "      <td>65.22</td>\n",
       "      <td>NaN</td>\n",
       "      <td>S</td>\n",
       "      <td>Daniel</td>\n",
       "      <td>Schmidt</td>\n",
       "    </tr>\n",
       "    <tr>\n",
       "      <th>10623</th>\n",
       "      <td>10623</td>\n",
       "      <td>1</td>\n",
       "      <td>1</td>\n",
       "      <td>Reul, Joseph</td>\n",
       "      <td>male</td>\n",
       "      <td>38.0</td>\n",
       "      <td>8</td>\n",
       "      <td>0</td>\n",
       "      <td>44153</td>\n",
       "      <td>24.51</td>\n",
       "      <td>NaN</td>\n",
       "      <td>S</td>\n",
       "      <td>Joseph</td>\n",
       "      <td>Reul</td>\n",
       "    </tr>\n",
       "  </tbody>\n",
       "</table>\n",
       "</div>"
      ],
      "text/plain": [
       "       PassengerId  Survived  Pclass               Name     Sex   Age  SibSp  \\\n",
       "204            204         1       3   Bennett, Shirley  female  12.0      8   \n",
       "692            692         0       2       Gomes, James    male  35.0      8   \n",
       "708            708         0       1      Ulloa, Mathew    male  53.0      8   \n",
       "1000          1000         1       3    Harper, Barbara  female  33.0      8   \n",
       "1230          1230         0       3   Carlson, Douglas    male  29.0      8   \n",
       "1367          1367         0       2    Fairhurst, Eric    male   7.0      8   \n",
       "2082          2082         0       1       Penney, Mary  female   1.0      8   \n",
       "2896          2896         0       3     Shary, Russell    male  52.0      8   \n",
       "2955          2955         0       2      Godina, Donte    male  28.0      8   \n",
       "3685          3685         1       1   Mcfarland, Wanda  female  29.0      8   \n",
       "3709          3709         0       3      Wright, Tracy    male  12.0      8   \n",
       "3839          3839         1       3       Hatley, Dora  female   NaN      8   \n",
       "4663          4663         0       1     Hill, Veronica  female  40.0      8   \n",
       "5296          5296         1       3    Jackson, Rafael    male  33.0      8   \n",
       "5603          5603         1       2   Schwartz, Yvonne  female  54.0      8   \n",
       "5653          5653         0       2     Rodgers, James    male  60.0      8   \n",
       "6072          6072         1       3         Lile, Joan  female  10.0      8   \n",
       "6407          6407         0       2       Spence, Eric    male  30.0      8   \n",
       "6647          6647         0       1  Powell, Francesco    male   9.0      8   \n",
       "6813          6813         0       3     Mills, Herbert    male  18.0      8   \n",
       "7033          7033         1       3     Bartlett, Mary  female  21.0      8   \n",
       "7167          7167         1       3    Crutcher, Tammy  female   0.0      8   \n",
       "7980          7980         1       3     Tolar, Timothy    male  20.0      8   \n",
       "8924          8924         0       3    Nelson, Gabriel    male   6.0      8   \n",
       "8954          8954         0       2     Berg, Jennifer  female  21.0      8   \n",
       "9208          9208         1       3       Clark, Susan  female   9.0      8   \n",
       "9847          9847         0       3    Boothe, William    male   1.0      8   \n",
       "9859          9859         1       2   Spencer, Kaylene  female   3.0      8   \n",
       "10489        10489         0       3    Schmidt, Daniel    male   0.0      8   \n",
       "10623        10623         1       1       Reul, Joseph    male  38.0      8   \n",
       "\n",
       "       Parch       Ticket    Fare   Cabin Embarked First_name    surname  \n",
       "204        1        21620   12.51     NaN        C    Shirley    Bennett  \n",
       "692        2         A/5    24.55     NaN        S      James      Gomes  \n",
       "708        1        13352  195.94   A7232        S     Mathew      Ulloa  \n",
       "1000       1        28882   64.99     NaN        S    Barbara     Harper  \n",
       "1230       1       338099    9.26     NaN        S    Douglas    Carlson  \n",
       "1367       2       418122   87.46   B7602        S       Eric  Fairhurst  \n",
       "2082       1        10707   29.14     NaN        S       Mary     Penney  \n",
       "2896       1    A/4 21984   22.77   A2101        S    Russell      Shary  \n",
       "2955       1       438614   32.13     NaN        C      Donte     Godina  \n",
       "3685       0        21804   28.23  C14426        S      Wanda  Mcfarland  \n",
       "3709       1        19754   28.42     NaN        S      Tracy     Wright  \n",
       "3839       1       409783   26.09     NaN        S       Dora     Hatley  \n",
       "4663       2       194548  205.55  C17218        C   Veronica       Hill  \n",
       "5296       0  A/5. 428554   11.65     NaN        C     Rafael    Jackson  \n",
       "5603       1      3955066   33.78     NaN        S     Yvonne   Schwartz  \n",
       "5653       0      3864430   29.57     NaN        S      James    Rodgers  \n",
       "6072       5       327802   29.15     NaN        C       Joan       Lile  \n",
       "6407       1   WE/P 28383    9.11     NaN        S       Eric     Spence  \n",
       "6647       2       450507  137.19  A10383        S  Francesco     Powell  \n",
       "6813       2       426476   59.68     NaN        S    Herbert      Mills  \n",
       "7033       1       328975   83.48     NaN        S       Mary   Bartlett  \n",
       "7167       1       495603   26.07     NaN        S      Tammy   Crutcher  \n",
       "7980       1       397951   32.13     NaN        S    Timothy      Tolar  \n",
       "8924       2          NaN    7.19     NaN        S    Gabriel     Nelson  \n",
       "8954       0      4043846   10.06     NaN        S   Jennifer       Berg  \n",
       "9208       1       451293   31.13     NaN        C      Susan      Clark  \n",
       "9847       1  C.A. 196550   29.88     NaN        S    William     Boothe  \n",
       "9859       1       330616   28.91     NaN        S    Kaylene    Spencer  \n",
       "10489      2        12655   65.22     NaN        S     Daniel    Schmidt  \n",
       "10623      0        44153   24.51     NaN        S     Joseph       Reul  "
      ]
     },
     "execution_count": 121,
     "metadata": {},
     "output_type": "execute_result"
    }
   ],
   "source": [
    "df[df['SibSp'] == 8].head(30)"
   ]
  },
  {
   "cell_type": "markdown",
   "id": "de554cba",
   "metadata": {},
   "source": [
    "Как мы видим, большинство людей на Титанике было без родственников и детей. а у некоторых число доходило аж до 8 человек.\n",
    "Весьма интересно что в выборке отсутствуют люди у которых было 6 или 7 родственников на корабле."
   ]
  },
  {
   "cell_type": "markdown",
   "id": "ed7a2410",
   "metadata": {},
   "source": [
    "# Parch"
   ]
  },
  {
   "cell_type": "code",
   "execution_count": 122,
   "id": "cd90ee29",
   "metadata": {},
   "outputs": [
    {
     "name": "stdout",
     "output_type": "stream",
     "text": [
      "Анализируем столбец Parch \n",
      "Уникальные значения : [0 2 1 4 3 5 6 9]\n",
      "---------------------------------------------------------\n",
      "Кол-во нулевых значений 0 \n",
      "Мода - 0    0\n",
      "dtype: int64\n",
      "count    100000.000000\n",
      "mean          0.454560\n",
      "std           0.950076\n",
      "min           0.000000\n",
      "25%           0.000000\n",
      "50%           0.000000\n",
      "75%           1.000000\n",
      "max           9.000000\n",
      "Name: Parch, dtype: float64\n",
      "Численное распределение\n",
      "0    73540\n",
      "1    12996\n",
      "2    11236\n",
      "3      983\n",
      "4      446\n",
      "5      331\n",
      "9      264\n",
      "6      204\n",
      "Name: Parch, dtype: int64\n"
     ]
    },
    {
     "data": {
      "image/png": "[encoded data removed]",
      "text/plain": [
       "<Figure size 1152x576 with 1 Axes>"
      ]
     },
     "metadata": {
      "needs_background": "light"
     },
     "output_type": "display_data"
    }
   ],
   "source": [
    "look_at_col(df, 'Parch')"
   ]
  },
  {
   "cell_type": "code",
   "execution_count": 123,
   "id": "b4c4ac4d",
   "metadata": {},
   "outputs": [
    {
     "data": {
      "text/html": [
       "<div>\n",
       "<style scoped>\n",
       "    .dataframe tbody tr th:only-of-type {\n",
       "        vertical-align: middle;\n",
       "    }\n",
       "\n",
       "    .dataframe tbody tr th {\n",
       "        vertical-align: top;\n",
       "    }\n",
       "\n",
       "    .dataframe thead th {\n",
       "        text-align: right;\n",
       "    }\n",
       "</style>\n",
       "<table border=\"1\" class=\"dataframe\">\n",
       "  <thead>\n",
       "    <tr style=\"text-align: right;\">\n",
       "      <th></th>\n",
       "      <th>PassengerId</th>\n",
       "      <th>Survived</th>\n",
       "      <th>Pclass</th>\n",
       "      <th>Name</th>\n",
       "      <th>Sex</th>\n",
       "      <th>Age</th>\n",
       "      <th>SibSp</th>\n",
       "      <th>Parch</th>\n",
       "      <th>Ticket</th>\n",
       "      <th>Fare</th>\n",
       "      <th>Cabin</th>\n",
       "      <th>Embarked</th>\n",
       "      <th>First_name</th>\n",
       "      <th>surname</th>\n",
       "    </tr>\n",
       "  </thead>\n",
       "  <tbody>\n",
       "    <tr>\n",
       "      <th>2</th>\n",
       "      <td>2</td>\n",
       "      <td>0</td>\n",
       "      <td>3</td>\n",
       "      <td>Owens, Kenneth</td>\n",
       "      <td>male</td>\n",
       "      <td>0.0</td>\n",
       "      <td>1</td>\n",
       "      <td>2</td>\n",
       "      <td>CA 457703</td>\n",
       "      <td>71.29</td>\n",
       "      <td>NaN</td>\n",
       "      <td>S</td>\n",
       "      <td>Kenneth</td>\n",
       "      <td>Owens</td>\n",
       "    </tr>\n",
       "    <tr>\n",
       "      <th>7</th>\n",
       "      <td>7</td>\n",
       "      <td>1</td>\n",
       "      <td>3</td>\n",
       "      <td>Werner, Linda</td>\n",
       "      <td>female</td>\n",
       "      <td>6.0</td>\n",
       "      <td>1</td>\n",
       "      <td>2</td>\n",
       "      <td>434426</td>\n",
       "      <td>31.50</td>\n",
       "      <td>NaN</td>\n",
       "      <td>S</td>\n",
       "      <td>Linda</td>\n",
       "      <td>Werner</td>\n",
       "    </tr>\n",
       "    <tr>\n",
       "      <th>27</th>\n",
       "      <td>27</td>\n",
       "      <td>1</td>\n",
       "      <td>1</td>\n",
       "      <td>Way, Tina</td>\n",
       "      <td>female</td>\n",
       "      <td>35.0</td>\n",
       "      <td>0</td>\n",
       "      <td>2</td>\n",
       "      <td>476162</td>\n",
       "      <td>154.61</td>\n",
       "      <td>C20297</td>\n",
       "      <td>C</td>\n",
       "      <td>Tina</td>\n",
       "      <td>Way</td>\n",
       "    </tr>\n",
       "    <tr>\n",
       "      <th>55</th>\n",
       "      <td>55</td>\n",
       "      <td>0</td>\n",
       "      <td>3</td>\n",
       "      <td>Persad, Elbert</td>\n",
       "      <td>male</td>\n",
       "      <td>3.0</td>\n",
       "      <td>1</td>\n",
       "      <td>2</td>\n",
       "      <td>424265</td>\n",
       "      <td>80.84</td>\n",
       "      <td>NaN</td>\n",
       "      <td>S</td>\n",
       "      <td>Elbert</td>\n",
       "      <td>Persad</td>\n",
       "    </tr>\n",
       "    <tr>\n",
       "      <th>63</th>\n",
       "      <td>63</td>\n",
       "      <td>0</td>\n",
       "      <td>1</td>\n",
       "      <td>Moreno, Carla</td>\n",
       "      <td>female</td>\n",
       "      <td>36.0</td>\n",
       "      <td>0</td>\n",
       "      <td>2</td>\n",
       "      <td>SC/Paris 231091</td>\n",
       "      <td>473.49</td>\n",
       "      <td>A6932</td>\n",
       "      <td>C</td>\n",
       "      <td>Carla</td>\n",
       "      <td>Moreno</td>\n",
       "    </tr>\n",
       "    <tr>\n",
       "      <th>67</th>\n",
       "      <td>67</td>\n",
       "      <td>0</td>\n",
       "      <td>1</td>\n",
       "      <td>Stefani, Alfred</td>\n",
       "      <td>male</td>\n",
       "      <td>38.0</td>\n",
       "      <td>1</td>\n",
       "      <td>2</td>\n",
       "      <td>CA. 6654</td>\n",
       "      <td>27.70</td>\n",
       "      <td>B4480</td>\n",
       "      <td>S</td>\n",
       "      <td>Alfred</td>\n",
       "      <td>Stefani</td>\n",
       "    </tr>\n",
       "    <tr>\n",
       "      <th>91</th>\n",
       "      <td>91</td>\n",
       "      <td>0</td>\n",
       "      <td>1</td>\n",
       "      <td>Lavadera, Richard</td>\n",
       "      <td>male</td>\n",
       "      <td>50.0</td>\n",
       "      <td>1</td>\n",
       "      <td>2</td>\n",
       "      <td>12272</td>\n",
       "      <td>8.82</td>\n",
       "      <td>B5371</td>\n",
       "      <td>S</td>\n",
       "      <td>Richard</td>\n",
       "      <td>Lavadera</td>\n",
       "    </tr>\n",
       "    <tr>\n",
       "      <th>104</th>\n",
       "      <td>104</td>\n",
       "      <td>0</td>\n",
       "      <td>1</td>\n",
       "      <td>Butt, David</td>\n",
       "      <td>male</td>\n",
       "      <td>48.0</td>\n",
       "      <td>1</td>\n",
       "      <td>2</td>\n",
       "      <td>15745</td>\n",
       "      <td>124.81</td>\n",
       "      <td>C7341</td>\n",
       "      <td>S</td>\n",
       "      <td>David</td>\n",
       "      <td>Butt</td>\n",
       "    </tr>\n",
       "    <tr>\n",
       "      <th>126</th>\n",
       "      <td>126</td>\n",
       "      <td>1</td>\n",
       "      <td>3</td>\n",
       "      <td>Whitney, Richard</td>\n",
       "      <td>male</td>\n",
       "      <td>6.0</td>\n",
       "      <td>1</td>\n",
       "      <td>2</td>\n",
       "      <td>C.A. 11175</td>\n",
       "      <td>32.07</td>\n",
       "      <td>NaN</td>\n",
       "      <td>S</td>\n",
       "      <td>Richard</td>\n",
       "      <td>Whitney</td>\n",
       "    </tr>\n",
       "    <tr>\n",
       "      <th>135</th>\n",
       "      <td>135</td>\n",
       "      <td>0</td>\n",
       "      <td>1</td>\n",
       "      <td>Rebman, Bessie</td>\n",
       "      <td>female</td>\n",
       "      <td>54.0</td>\n",
       "      <td>1</td>\n",
       "      <td>2</td>\n",
       "      <td>346652</td>\n",
       "      <td>84.93</td>\n",
       "      <td>B9829</td>\n",
       "      <td>Q</td>\n",
       "      <td>Bessie</td>\n",
       "      <td>Rebman</td>\n",
       "    </tr>\n",
       "    <tr>\n",
       "      <th>139</th>\n",
       "      <td>139</td>\n",
       "      <td>0</td>\n",
       "      <td>1</td>\n",
       "      <td>Wheeler, Frank</td>\n",
       "      <td>male</td>\n",
       "      <td>39.0</td>\n",
       "      <td>1</td>\n",
       "      <td>2</td>\n",
       "      <td>25571</td>\n",
       "      <td>60.76</td>\n",
       "      <td>NaN</td>\n",
       "      <td>S</td>\n",
       "      <td>Frank</td>\n",
       "      <td>Wheeler</td>\n",
       "    </tr>\n",
       "    <tr>\n",
       "      <th>142</th>\n",
       "      <td>142</td>\n",
       "      <td>0</td>\n",
       "      <td>1</td>\n",
       "      <td>Treadway, Monte</td>\n",
       "      <td>male</td>\n",
       "      <td>52.0</td>\n",
       "      <td>1</td>\n",
       "      <td>2</td>\n",
       "      <td>207425</td>\n",
       "      <td>26.28</td>\n",
       "      <td>B15299</td>\n",
       "      <td>S</td>\n",
       "      <td>Monte</td>\n",
       "      <td>Treadway</td>\n",
       "    </tr>\n",
       "    <tr>\n",
       "      <th>143</th>\n",
       "      <td>143</td>\n",
       "      <td>0</td>\n",
       "      <td>1</td>\n",
       "      <td>Unga, Jeremy</td>\n",
       "      <td>male</td>\n",
       "      <td>52.0</td>\n",
       "      <td>1</td>\n",
       "      <td>2</td>\n",
       "      <td>26186</td>\n",
       "      <td>23.01</td>\n",
       "      <td>A4558</td>\n",
       "      <td>S</td>\n",
       "      <td>Jeremy</td>\n",
       "      <td>Unga</td>\n",
       "    </tr>\n",
       "    <tr>\n",
       "      <th>144</th>\n",
       "      <td>144</td>\n",
       "      <td>0</td>\n",
       "      <td>3</td>\n",
       "      <td>Stone, Kimberly</td>\n",
       "      <td>female</td>\n",
       "      <td>2.0</td>\n",
       "      <td>1</td>\n",
       "      <td>2</td>\n",
       "      <td>C.A. 11709</td>\n",
       "      <td>37.14</td>\n",
       "      <td>NaN</td>\n",
       "      <td>S</td>\n",
       "      <td>Kimberly</td>\n",
       "      <td>Stone</td>\n",
       "    </tr>\n",
       "    <tr>\n",
       "      <th>148</th>\n",
       "      <td>148</td>\n",
       "      <td>0</td>\n",
       "      <td>1</td>\n",
       "      <td>Jackson, Gilbert</td>\n",
       "      <td>male</td>\n",
       "      <td>52.0</td>\n",
       "      <td>1</td>\n",
       "      <td>2</td>\n",
       "      <td>A/5. 8758</td>\n",
       "      <td>62.41</td>\n",
       "      <td>A14349</td>\n",
       "      <td>S</td>\n",
       "      <td>Gilbert</td>\n",
       "      <td>Jackson</td>\n",
       "    </tr>\n",
       "    <tr>\n",
       "      <th>159</th>\n",
       "      <td>159</td>\n",
       "      <td>1</td>\n",
       "      <td>1</td>\n",
       "      <td>Larson, Tracy</td>\n",
       "      <td>female</td>\n",
       "      <td>51.0</td>\n",
       "      <td>0</td>\n",
       "      <td>2</td>\n",
       "      <td>PC 29314</td>\n",
       "      <td>76.10</td>\n",
       "      <td>C18884</td>\n",
       "      <td>S</td>\n",
       "      <td>Tracy</td>\n",
       "      <td>Larson</td>\n",
       "    </tr>\n",
       "    <tr>\n",
       "      <th>169</th>\n",
       "      <td>169</td>\n",
       "      <td>1</td>\n",
       "      <td>3</td>\n",
       "      <td>Torres, Mary</td>\n",
       "      <td>female</td>\n",
       "      <td>14.0</td>\n",
       "      <td>2</td>\n",
       "      <td>2</td>\n",
       "      <td>44080</td>\n",
       "      <td>26.36</td>\n",
       "      <td>NaN</td>\n",
       "      <td>C</td>\n",
       "      <td>Mary</td>\n",
       "      <td>Torres</td>\n",
       "    </tr>\n",
       "    <tr>\n",
       "      <th>176</th>\n",
       "      <td>176</td>\n",
       "      <td>1</td>\n",
       "      <td>1</td>\n",
       "      <td>Jones, Wilma</td>\n",
       "      <td>female</td>\n",
       "      <td>22.0</td>\n",
       "      <td>1</td>\n",
       "      <td>2</td>\n",
       "      <td>PC 31379</td>\n",
       "      <td>13.32</td>\n",
       "      <td>B2416</td>\n",
       "      <td>C</td>\n",
       "      <td>Wilma</td>\n",
       "      <td>Jones</td>\n",
       "    </tr>\n",
       "    <tr>\n",
       "      <th>194</th>\n",
       "      <td>194</td>\n",
       "      <td>0</td>\n",
       "      <td>2</td>\n",
       "      <td>Anderson, James</td>\n",
       "      <td>male</td>\n",
       "      <td>39.0</td>\n",
       "      <td>0</td>\n",
       "      <td>2</td>\n",
       "      <td>S.C./PARIS 423624</td>\n",
       "      <td>11.42</td>\n",
       "      <td>NaN</td>\n",
       "      <td>S</td>\n",
       "      <td>James</td>\n",
       "      <td>Anderson</td>\n",
       "    </tr>\n",
       "    <tr>\n",
       "      <th>212</th>\n",
       "      <td>212</td>\n",
       "      <td>1</td>\n",
       "      <td>3</td>\n",
       "      <td>Olivares, Andrew</td>\n",
       "      <td>male</td>\n",
       "      <td>NaN</td>\n",
       "      <td>1</td>\n",
       "      <td>2</td>\n",
       "      <td>37356</td>\n",
       "      <td>30.33</td>\n",
       "      <td>B16132</td>\n",
       "      <td>S</td>\n",
       "      <td>Andrew</td>\n",
       "      <td>Olivares</td>\n",
       "    </tr>\n",
       "    <tr>\n",
       "      <th>214</th>\n",
       "      <td>214</td>\n",
       "      <td>0</td>\n",
       "      <td>1</td>\n",
       "      <td>Mcnabb, Gisela</td>\n",
       "      <td>female</td>\n",
       "      <td>60.0</td>\n",
       "      <td>1</td>\n",
       "      <td>2</td>\n",
       "      <td>205954</td>\n",
       "      <td>70.35</td>\n",
       "      <td>A9827</td>\n",
       "      <td>S</td>\n",
       "      <td>Gisela</td>\n",
       "      <td>Mcnabb</td>\n",
       "    </tr>\n",
       "    <tr>\n",
       "      <th>219</th>\n",
       "      <td>219</td>\n",
       "      <td>0</td>\n",
       "      <td>3</td>\n",
       "      <td>Sedlock, David</td>\n",
       "      <td>male</td>\n",
       "      <td>2.0</td>\n",
       "      <td>1</td>\n",
       "      <td>2</td>\n",
       "      <td>426633</td>\n",
       "      <td>29.76</td>\n",
       "      <td>NaN</td>\n",
       "      <td>S</td>\n",
       "      <td>David</td>\n",
       "      <td>Sedlock</td>\n",
       "    </tr>\n",
       "    <tr>\n",
       "      <th>226</th>\n",
       "      <td>226</td>\n",
       "      <td>0</td>\n",
       "      <td>3</td>\n",
       "      <td>Steffes, Julia</td>\n",
       "      <td>female</td>\n",
       "      <td>6.0</td>\n",
       "      <td>1</td>\n",
       "      <td>2</td>\n",
       "      <td>17321</td>\n",
       "      <td>10.34</td>\n",
       "      <td>NaN</td>\n",
       "      <td>S</td>\n",
       "      <td>Julia</td>\n",
       "      <td>Steffes</td>\n",
       "    </tr>\n",
       "    <tr>\n",
       "      <th>228</th>\n",
       "      <td>228</td>\n",
       "      <td>1</td>\n",
       "      <td>3</td>\n",
       "      <td>Kabel, Rosa</td>\n",
       "      <td>female</td>\n",
       "      <td>0.0</td>\n",
       "      <td>1</td>\n",
       "      <td>2</td>\n",
       "      <td>201054</td>\n",
       "      <td>33.92</td>\n",
       "      <td>NaN</td>\n",
       "      <td>S</td>\n",
       "      <td>Rosa</td>\n",
       "      <td>Kabel</td>\n",
       "    </tr>\n",
       "    <tr>\n",
       "      <th>239</th>\n",
       "      <td>239</td>\n",
       "      <td>1</td>\n",
       "      <td>2</td>\n",
       "      <td>Jones, Kristen</td>\n",
       "      <td>female</td>\n",
       "      <td>15.0</td>\n",
       "      <td>0</td>\n",
       "      <td>2</td>\n",
       "      <td>W./C. 326907</td>\n",
       "      <td>35.89</td>\n",
       "      <td>NaN</td>\n",
       "      <td>S</td>\n",
       "      <td>Kristen</td>\n",
       "      <td>Jones</td>\n",
       "    </tr>\n",
       "    <tr>\n",
       "      <th>248</th>\n",
       "      <td>248</td>\n",
       "      <td>1</td>\n",
       "      <td>3</td>\n",
       "      <td>Bedolla, Kimberly</td>\n",
       "      <td>female</td>\n",
       "      <td>5.0</td>\n",
       "      <td>1</td>\n",
       "      <td>2</td>\n",
       "      <td>12997</td>\n",
       "      <td>88.63</td>\n",
       "      <td>NaN</td>\n",
       "      <td>C</td>\n",
       "      <td>Kimberly</td>\n",
       "      <td>Bedolla</td>\n",
       "    </tr>\n",
       "    <tr>\n",
       "      <th>277</th>\n",
       "      <td>277</td>\n",
       "      <td>0</td>\n",
       "      <td>2</td>\n",
       "      <td>Sarvas, Steve</td>\n",
       "      <td>male</td>\n",
       "      <td>41.0</td>\n",
       "      <td>0</td>\n",
       "      <td>2</td>\n",
       "      <td>8927</td>\n",
       "      <td>11.25</td>\n",
       "      <td>NaN</td>\n",
       "      <td>S</td>\n",
       "      <td>Steve</td>\n",
       "      <td>Sarvas</td>\n",
       "    </tr>\n",
       "    <tr>\n",
       "      <th>313</th>\n",
       "      <td>313</td>\n",
       "      <td>0</td>\n",
       "      <td>3</td>\n",
       "      <td>Cruz, Joseph</td>\n",
       "      <td>male</td>\n",
       "      <td>7.0</td>\n",
       "      <td>2</td>\n",
       "      <td>2</td>\n",
       "      <td>24907</td>\n",
       "      <td>56.84</td>\n",
       "      <td>A18535</td>\n",
       "      <td>S</td>\n",
       "      <td>Joseph</td>\n",
       "      <td>Cruz</td>\n",
       "    </tr>\n",
       "    <tr>\n",
       "      <th>320</th>\n",
       "      <td>320</td>\n",
       "      <td>1</td>\n",
       "      <td>3</td>\n",
       "      <td>Sharp, Agnes</td>\n",
       "      <td>female</td>\n",
       "      <td>40.0</td>\n",
       "      <td>0</td>\n",
       "      <td>2</td>\n",
       "      <td>48602</td>\n",
       "      <td>25.97</td>\n",
       "      <td>NaN</td>\n",
       "      <td>S</td>\n",
       "      <td>Agnes</td>\n",
       "      <td>Sharp</td>\n",
       "    </tr>\n",
       "    <tr>\n",
       "      <th>329</th>\n",
       "      <td>329</td>\n",
       "      <td>0</td>\n",
       "      <td>1</td>\n",
       "      <td>Houston, Thomas</td>\n",
       "      <td>male</td>\n",
       "      <td>49.0</td>\n",
       "      <td>0</td>\n",
       "      <td>2</td>\n",
       "      <td>28833</td>\n",
       "      <td>187.55</td>\n",
       "      <td>A8785</td>\n",
       "      <td>S</td>\n",
       "      <td>Thomas</td>\n",
       "      <td>Houston</td>\n",
       "    </tr>\n",
       "  </tbody>\n",
       "</table>\n",
       "</div>"
      ],
      "text/plain": [
       "     PassengerId  Survived  Pclass               Name     Sex   Age  SibSp  \\\n",
       "2              2         0       3     Owens, Kenneth    male   0.0      1   \n",
       "7              7         1       3      Werner, Linda  female   6.0      1   \n",
       "27            27         1       1          Way, Tina  female  35.0      0   \n",
       "55            55         0       3     Persad, Elbert    male   3.0      1   \n",
       "63            63         0       1      Moreno, Carla  female  36.0      0   \n",
       "67            67         0       1    Stefani, Alfred    male  38.0      1   \n",
       "91            91         0       1  Lavadera, Richard    male  50.0      1   \n",
       "104          104         0       1        Butt, David    male  48.0      1   \n",
       "126          126         1       3   Whitney, Richard    male   6.0      1   \n",
       "135          135         0       1     Rebman, Bessie  female  54.0      1   \n",
       "139          139         0       1     Wheeler, Frank    male  39.0      1   \n",
       "142          142         0       1    Treadway, Monte    male  52.0      1   \n",
       "143          143         0       1       Unga, Jeremy    male  52.0      1   \n",
       "144          144         0       3    Stone, Kimberly  female   2.0      1   \n",
       "148          148         0       1   Jackson, Gilbert    male  52.0      1   \n",
       "159          159         1       1      Larson, Tracy  female  51.0      0   \n",
       "169          169         1       3       Torres, Mary  female  14.0      2   \n",
       "176          176         1       1       Jones, Wilma  female  22.0      1   \n",
       "194          194         0       2    Anderson, James    male  39.0      0   \n",
       "212          212         1       3   Olivares, Andrew    male   NaN      1   \n",
       "214          214         0       1     Mcnabb, Gisela  female  60.0      1   \n",
       "219          219         0       3     Sedlock, David    male   2.0      1   \n",
       "226          226         0       3     Steffes, Julia  female   6.0      1   \n",
       "228          228         1       3        Kabel, Rosa  female   0.0      1   \n",
       "239          239         1       2     Jones, Kristen  female  15.0      0   \n",
       "248          248         1       3  Bedolla, Kimberly  female   5.0      1   \n",
       "277          277         0       2      Sarvas, Steve    male  41.0      0   \n",
       "313          313         0       3       Cruz, Joseph    male   7.0      2   \n",
       "320          320         1       3       Sharp, Agnes  female  40.0      0   \n",
       "329          329         0       1    Houston, Thomas    male  49.0      0   \n",
       "\n",
       "     Parch             Ticket    Fare   Cabin Embarked First_name   surname  \n",
       "2        2          CA 457703   71.29     NaN        S    Kenneth     Owens  \n",
       "7        2             434426   31.50     NaN        S      Linda    Werner  \n",
       "27       2             476162  154.61  C20297        C       Tina       Way  \n",
       "55       2             424265   80.84     NaN        S     Elbert    Persad  \n",
       "63       2    SC/Paris 231091  473.49   A6932        C      Carla    Moreno  \n",
       "67       2           CA. 6654   27.70   B4480        S     Alfred   Stefani  \n",
       "91       2              12272    8.82   B5371        S    Richard  Lavadera  \n",
       "104      2              15745  124.81   C7341        S      David      Butt  \n",
       "126      2         C.A. 11175   32.07     NaN        S    Richard   Whitney  \n",
       "135      2             346652   84.93   B9829        Q     Bessie    Rebman  \n",
       "139      2              25571   60.76     NaN        S      Frank   Wheeler  \n",
       "142      2             207425   26.28  B15299        S      Monte  Treadway  \n",
       "143      2              26186   23.01   A4558        S     Jeremy      Unga  \n",
       "144      2         C.A. 11709   37.14     NaN        S   Kimberly     Stone  \n",
       "148      2          A/5. 8758   62.41  A14349        S    Gilbert   Jackson  \n",
       "159      2           PC 29314   76.10  C18884        S      Tracy    Larson  \n",
       "169      2              44080   26.36     NaN        C       Mary    Torres  \n",
       "176      2           PC 31379   13.32   B2416        C      Wilma     Jones  \n",
       "194      2  S.C./PARIS 423624   11.42     NaN        S      James  Anderson  \n",
       "212      2              37356   30.33  B16132        S     Andrew  Olivares  \n",
       "214      2             205954   70.35   A9827        S     Gisela    Mcnabb  \n",
       "219      2             426633   29.76     NaN        S      David   Sedlock  \n",
       "226      2              17321   10.34     NaN        S      Julia   Steffes  \n",
       "228      2             201054   33.92     NaN        S       Rosa     Kabel  \n",
       "239      2       W./C. 326907   35.89     NaN        S    Kristen     Jones  \n",
       "248      2              12997   88.63     NaN        C   Kimberly   Bedolla  \n",
       "277      2               8927   11.25     NaN        S      Steve    Sarvas  \n",
       "313      2              24907   56.84  A18535        S     Joseph      Cruz  \n",
       "320      2              48602   25.97     NaN        S      Agnes     Sharp  \n",
       "329      2              28833  187.55   A8785        S     Thomas   Houston  "
      ]
     },
     "execution_count": 123,
     "metadata": {},
     "output_type": "execute_result"
    }
   ],
   "source": [
    "df[df['Parch'] == 2].head(30)"
   ]
  },
  {
   "cell_type": "markdown",
   "id": "8abf69d6",
   "metadata": {},
   "source": [
    "Как мы видим, большинство людей на Титанике было без родителей/детей на борту Титаника. Максимальное значение признака равно 9."
   ]
  },
  {
   "cell_type": "markdown",
   "id": "c8dfd95c",
   "metadata": {},
   "source": [
    "# Ticket"
   ]
  },
  {
   "cell_type": "code",
   "execution_count": 124,
   "id": "2161d044",
   "metadata": {},
   "outputs": [
    {
     "data": {
      "text/plain": [
       "75332"
      ]
     },
     "execution_count": 124,
     "metadata": {},
     "output_type": "execute_result"
    }
   ],
   "source": [
    "len(df.Ticket.unique())"
   ]
  },
  {
   "cell_type": "markdown",
   "id": "f52f2c4a",
   "metadata": {},
   "source": [
    "Весьма интеренстно. Что, что из 95377 данных всего 75332 уникальных номеров билетов. Проанализируем данный признак."
   ]
  },
  {
   "cell_type": "code",
   "execution_count": 125,
   "id": "0e203d90",
   "metadata": {
    "scrolled": true
   },
   "outputs": [],
   "source": [
    "#df['Ticket'].value_counts().head()"
   ]
  },
  {
   "cell_type": "code",
   "execution_count": 126,
   "id": "a8720cf4",
   "metadata": {},
   "outputs": [
    {
     "data": {
      "text/plain": [
       "PC          6\n",
       "25926       5\n",
       "26835       5\n",
       "25386       5\n",
       "20851       5\n",
       "27322       5\n",
       "26912       5\n",
       "13527       5\n",
       "28232       5\n",
       "27415       4\n",
       "24399       4\n",
       "11874       4\n",
       "26386       4\n",
       "27362       4\n",
       "28418       4\n",
       "PC 26296    4\n",
       "27661       4\n",
       "27945       4\n",
       "11912       4\n",
       "26446       4\n",
       "25336       4\n",
       "26831       4\n",
       "10158       4\n",
       "11733       4\n",
       "28148       4\n",
       "26643       4\n",
       "12543       4\n",
       "11596       4\n",
       "11458       4\n",
       "26261       4\n",
       "26298       4\n",
       "26139       4\n",
       "25303       4\n",
       "26783       4\n",
       "27385       4\n",
       "24956       4\n",
       "12354       4\n",
       "27184       4\n",
       "26030       4\n",
       "25412       4\n",
       "24247       4\n",
       "11884       4\n",
       "13383       4\n",
       "22957       4\n",
       "28140       4\n",
       "28784       4\n",
       "27297       4\n",
       "25842       4\n",
       "25453       4\n",
       "24511       4\n",
       "Name: Ticket, dtype: int64"
      ]
     },
     "execution_count": 126,
     "metadata": {},
     "output_type": "execute_result"
    }
   ],
   "source": [
    "df[df['Pclass'] == 1]['Ticket'].value_counts().head(50)"
   ]
  },
  {
   "cell_type": "code",
   "execution_count": 127,
   "id": "9c5a3a19",
   "metadata": {
    "scrolled": true
   },
   "outputs": [
    {
     "data": {
      "text/plain": [
       "A/5            67\n",
       "C.A.           26\n",
       "SC/PARIS       23\n",
       "SC             12\n",
       "SOTON/O.Q.      8\n",
       "9566            7\n",
       "W./C.           6\n",
       "10653           5\n",
       "11217           5\n",
       "10377           5\n",
       "10702           5\n",
       "11947           5\n",
       "10676           5\n",
       "10440           5\n",
       "9491            5\n",
       "A/4             5\n",
       "8923            5\n",
       "10867           5\n",
       "9303            5\n",
       "7318            5\n",
       "12689           4\n",
       "10957           4\n",
       "11134           4\n",
       "13532           4\n",
       "11619           4\n",
       "11006           4\n",
       "10664           4\n",
       "9734            4\n",
       "9888            4\n",
       "7961            4\n",
       "11314           4\n",
       "11592           4\n",
       "8218            4\n",
       "8837            4\n",
       "10967           4\n",
       "8321            4\n",
       "10103           4\n",
       "13716           4\n",
       "11335           4\n",
       "9121            4\n",
       "10210           4\n",
       "10452           4\n",
       "11174           4\n",
       "8930            4\n",
       "11811           4\n",
       "9627            4\n",
       "8887            4\n",
       "9766            4\n",
       "12282           4\n",
       "8257            4\n",
       "9794            4\n",
       "9813            4\n",
       "9974            4\n",
       "12472           4\n",
       "11219           4\n",
       "11237           4\n",
       "8929            4\n",
       "11145           4\n",
       "10759           4\n",
       "25230           4\n",
       "Name: Ticket, dtype: int64"
      ]
     },
     "execution_count": 127,
     "metadata": {},
     "output_type": "execute_result"
    }
   ],
   "source": [
    "df[df['Pclass'] == 2]['Ticket'].value_counts().head(60)"
   ]
  },
  {
   "cell_type": "code",
   "execution_count": 128,
   "id": "d57a95e1",
   "metadata": {},
   "outputs": [
    {
     "data": {
      "text/plain": [
       "A/5            535\n",
       "C.A.           151\n",
       "SC/PARIS       122\n",
       "SOTON/O.Q.      72\n",
       "W./C.           47\n",
       "SC              45\n",
       "A/5.            36\n",
       "W.E.P.          19\n",
       "CA              18\n",
       "STON/O2.        18\n",
       "PP              15\n",
       "CA.             12\n",
       "S.P.            10\n",
       "LP              10\n",
       "SOTON/OQ         9\n",
       "A/4              7\n",
       "S.C./PARIS       6\n",
       "10603            6\n",
       "AQ/3.            6\n",
       "S.O.C.           6\n",
       "S.C./A.4.        6\n",
       "12255            6\n",
       "10304            6\n",
       "10697            6\n",
       "9502             5\n",
       "12032            5\n",
       "11995            5\n",
       "12736            5\n",
       "11847            5\n",
       "12428            5\n",
       "13280            5\n",
       "10301            5\n",
       "11317            5\n",
       "10029            5\n",
       "11924            5\n",
       "11193            5\n",
       "11538            5\n",
       "13298            5\n",
       "11491            5\n",
       "11044            5\n",
       "P/PP             5\n",
       "12535            5\n",
       "27465            5\n",
       "11225            5\n",
       "10362            5\n",
       "11992            5\n",
       "12105            4\n",
       "11509            4\n",
       "13657            4\n",
       "12921            4\n",
       "Name: Ticket, dtype: int64"
      ]
     },
     "execution_count": 128,
     "metadata": {},
     "output_type": "execute_result"
    }
   ],
   "source": [
    "df[df['Pclass'] == 3]['Ticket'].value_counts().head(50)"
   ]
  },
  {
   "cell_type": "code",
   "execution_count": 129,
   "id": "9708e8e8",
   "metadata": {},
   "outputs": [
    {
     "data": {
      "text/html": [
       "<div>\n",
       "<style scoped>\n",
       "    .dataframe tbody tr th:only-of-type {\n",
       "        vertical-align: middle;\n",
       "    }\n",
       "\n",
       "    .dataframe tbody tr th {\n",
       "        vertical-align: top;\n",
       "    }\n",
       "\n",
       "    .dataframe thead th {\n",
       "        text-align: right;\n",
       "    }\n",
       "</style>\n",
       "<table border=\"1\" class=\"dataframe\">\n",
       "  <thead>\n",
       "    <tr style=\"text-align: right;\">\n",
       "      <th></th>\n",
       "      <th>PassengerId</th>\n",
       "      <th>Survived</th>\n",
       "      <th>Pclass</th>\n",
       "      <th>Name</th>\n",
       "      <th>Sex</th>\n",
       "      <th>Age</th>\n",
       "      <th>SibSp</th>\n",
       "      <th>Parch</th>\n",
       "      <th>Ticket</th>\n",
       "      <th>Fare</th>\n",
       "      <th>Cabin</th>\n",
       "      <th>Embarked</th>\n",
       "      <th>First_name</th>\n",
       "      <th>surname</th>\n",
       "    </tr>\n",
       "  </thead>\n",
       "  <tbody>\n",
       "    <tr>\n",
       "      <th>6</th>\n",
       "      <td>6</td>\n",
       "      <td>0</td>\n",
       "      <td>3</td>\n",
       "      <td>Conway, Jose</td>\n",
       "      <td>male</td>\n",
       "      <td>7.0</td>\n",
       "      <td>0</td>\n",
       "      <td>0</td>\n",
       "      <td>A/5</td>\n",
       "      <td>9.77</td>\n",
       "      <td>NaN</td>\n",
       "      <td>S</td>\n",
       "      <td>Jose</td>\n",
       "      <td>Conway</td>\n",
       "    </tr>\n",
       "    <tr>\n",
       "      <th>319</th>\n",
       "      <td>319</td>\n",
       "      <td>0</td>\n",
       "      <td>3</td>\n",
       "      <td>Henderson, Luella</td>\n",
       "      <td>female</td>\n",
       "      <td>21.0</td>\n",
       "      <td>0</td>\n",
       "      <td>0</td>\n",
       "      <td>A/5</td>\n",
       "      <td>10.85</td>\n",
       "      <td>NaN</td>\n",
       "      <td>S</td>\n",
       "      <td>Luella</td>\n",
       "      <td>Henderson</td>\n",
       "    </tr>\n",
       "    <tr>\n",
       "      <th>448</th>\n",
       "      <td>448</td>\n",
       "      <td>0</td>\n",
       "      <td>3</td>\n",
       "      <td>Schaefer, Tammy</td>\n",
       "      <td>female</td>\n",
       "      <td>60.0</td>\n",
       "      <td>0</td>\n",
       "      <td>0</td>\n",
       "      <td>A/5</td>\n",
       "      <td>8.91</td>\n",
       "      <td>NaN</td>\n",
       "      <td>S</td>\n",
       "      <td>Tammy</td>\n",
       "      <td>Schaefer</td>\n",
       "    </tr>\n",
       "    <tr>\n",
       "      <th>692</th>\n",
       "      <td>692</td>\n",
       "      <td>0</td>\n",
       "      <td>2</td>\n",
       "      <td>Gomes, James</td>\n",
       "      <td>male</td>\n",
       "      <td>35.0</td>\n",
       "      <td>8</td>\n",
       "      <td>2</td>\n",
       "      <td>A/5</td>\n",
       "      <td>24.55</td>\n",
       "      <td>NaN</td>\n",
       "      <td>S</td>\n",
       "      <td>James</td>\n",
       "      <td>Gomes</td>\n",
       "    </tr>\n",
       "    <tr>\n",
       "      <th>1069</th>\n",
       "      <td>1069</td>\n",
       "      <td>1</td>\n",
       "      <td>2</td>\n",
       "      <td>Nolan, Tisha</td>\n",
       "      <td>female</td>\n",
       "      <td>49.0</td>\n",
       "      <td>0</td>\n",
       "      <td>0</td>\n",
       "      <td>A/5</td>\n",
       "      <td>9.30</td>\n",
       "      <td>NaN</td>\n",
       "      <td>S</td>\n",
       "      <td>Tisha</td>\n",
       "      <td>Nolan</td>\n",
       "    </tr>\n",
       "    <tr>\n",
       "      <th>...</th>\n",
       "      <td>...</td>\n",
       "      <td>...</td>\n",
       "      <td>...</td>\n",
       "      <td>...</td>\n",
       "      <td>...</td>\n",
       "      <td>...</td>\n",
       "      <td>...</td>\n",
       "      <td>...</td>\n",
       "      <td>...</td>\n",
       "      <td>...</td>\n",
       "      <td>...</td>\n",
       "      <td>...</td>\n",
       "      <td>...</td>\n",
       "      <td>...</td>\n",
       "    </tr>\n",
       "    <tr>\n",
       "      <th>99290</th>\n",
       "      <td>99290</td>\n",
       "      <td>0</td>\n",
       "      <td>3</td>\n",
       "      <td>Shasteen, Bess</td>\n",
       "      <td>female</td>\n",
       "      <td>24.0</td>\n",
       "      <td>0</td>\n",
       "      <td>0</td>\n",
       "      <td>A/5</td>\n",
       "      <td>9.13</td>\n",
       "      <td>NaN</td>\n",
       "      <td>S</td>\n",
       "      <td>Bess</td>\n",
       "      <td>Shasteen</td>\n",
       "    </tr>\n",
       "    <tr>\n",
       "      <th>99476</th>\n",
       "      <td>99476</td>\n",
       "      <td>1</td>\n",
       "      <td>3</td>\n",
       "      <td>Young, Pamela</td>\n",
       "      <td>female</td>\n",
       "      <td>22.0</td>\n",
       "      <td>0</td>\n",
       "      <td>0</td>\n",
       "      <td>A/5</td>\n",
       "      <td>10.84</td>\n",
       "      <td>NaN</td>\n",
       "      <td>S</td>\n",
       "      <td>Pamela</td>\n",
       "      <td>Young</td>\n",
       "    </tr>\n",
       "    <tr>\n",
       "      <th>99621</th>\n",
       "      <td>99621</td>\n",
       "      <td>1</td>\n",
       "      <td>3</td>\n",
       "      <td>Gariepy, Dessie</td>\n",
       "      <td>female</td>\n",
       "      <td>19.0</td>\n",
       "      <td>0</td>\n",
       "      <td>0</td>\n",
       "      <td>A/5</td>\n",
       "      <td>7.25</td>\n",
       "      <td>NaN</td>\n",
       "      <td>S</td>\n",
       "      <td>Dessie</td>\n",
       "      <td>Gariepy</td>\n",
       "    </tr>\n",
       "    <tr>\n",
       "      <th>99777</th>\n",
       "      <td>99777</td>\n",
       "      <td>1</td>\n",
       "      <td>3</td>\n",
       "      <td>George, Ana</td>\n",
       "      <td>female</td>\n",
       "      <td>68.0</td>\n",
       "      <td>0</td>\n",
       "      <td>0</td>\n",
       "      <td>A/5</td>\n",
       "      <td>8.18</td>\n",
       "      <td>NaN</td>\n",
       "      <td>C</td>\n",
       "      <td>Ana</td>\n",
       "      <td>George</td>\n",
       "    </tr>\n",
       "    <tr>\n",
       "      <th>99901</th>\n",
       "      <td>99901</td>\n",
       "      <td>0</td>\n",
       "      <td>2</td>\n",
       "      <td>Travis, Edward</td>\n",
       "      <td>male</td>\n",
       "      <td>65.0</td>\n",
       "      <td>0</td>\n",
       "      <td>0</td>\n",
       "      <td>A/5</td>\n",
       "      <td>11.47</td>\n",
       "      <td>NaN</td>\n",
       "      <td>S</td>\n",
       "      <td>Edward</td>\n",
       "      <td>Travis</td>\n",
       "    </tr>\n",
       "  </tbody>\n",
       "</table>\n",
       "<p>602 rows × 14 columns</p>\n",
       "</div>"
      ],
      "text/plain": [
       "       PassengerId  Survived  Pclass               Name     Sex   Age  SibSp  \\\n",
       "6                6         0       3       Conway, Jose    male   7.0      0   \n",
       "319            319         0       3  Henderson, Luella  female  21.0      0   \n",
       "448            448         0       3    Schaefer, Tammy  female  60.0      0   \n",
       "692            692         0       2       Gomes, James    male  35.0      8   \n",
       "1069          1069         1       2       Nolan, Tisha  female  49.0      0   \n",
       "...            ...       ...     ...                ...     ...   ...    ...   \n",
       "99290        99290         0       3     Shasteen, Bess  female  24.0      0   \n",
       "99476        99476         1       3      Young, Pamela  female  22.0      0   \n",
       "99621        99621         1       3    Gariepy, Dessie  female  19.0      0   \n",
       "99777        99777         1       3        George, Ana  female  68.0      0   \n",
       "99901        99901         0       2     Travis, Edward    male  65.0      0   \n",
       "\n",
       "       Parch Ticket   Fare Cabin Embarked First_name    surname  \n",
       "6          0   A/5    9.77   NaN        S       Jose     Conway  \n",
       "319        0   A/5   10.85   NaN        S     Luella  Henderson  \n",
       "448        0   A/5    8.91   NaN        S      Tammy   Schaefer  \n",
       "692        2   A/5   24.55   NaN        S      James      Gomes  \n",
       "1069       0   A/5    9.30   NaN        S      Tisha      Nolan  \n",
       "...      ...    ...    ...   ...      ...        ...        ...  \n",
       "99290      0   A/5    9.13   NaN        S       Bess   Shasteen  \n",
       "99476      0   A/5   10.84   NaN        S     Pamela      Young  \n",
       "99621      0   A/5    7.25   NaN        S     Dessie    Gariepy  \n",
       "99777      0   A/5    8.18   NaN        C        Ana     George  \n",
       "99901      0   A/5   11.47   NaN        S     Edward     Travis  \n",
       "\n",
       "[602 rows x 14 columns]"
      ]
     },
     "execution_count": 129,
     "metadata": {},
     "output_type": "execute_result"
    }
   ],
   "source": [
    "df[df['Ticket'] == 'A/5 ']"
   ]
  },
  {
   "cell_type": "code",
   "execution_count": 130,
   "id": "8823be81",
   "metadata": {},
   "outputs": [
    {
     "data": {
      "text/html": [
       "<div>\n",
       "<style scoped>\n",
       "    .dataframe tbody tr th:only-of-type {\n",
       "        vertical-align: middle;\n",
       "    }\n",
       "\n",
       "    .dataframe tbody tr th {\n",
       "        vertical-align: top;\n",
       "    }\n",
       "\n",
       "    .dataframe thead th {\n",
       "        text-align: right;\n",
       "    }\n",
       "</style>\n",
       "<table border=\"1\" class=\"dataframe\">\n",
       "  <thead>\n",
       "    <tr style=\"text-align: right;\">\n",
       "      <th></th>\n",
       "      <th>PassengerId</th>\n",
       "      <th>Survived</th>\n",
       "      <th>Pclass</th>\n",
       "      <th>Name</th>\n",
       "      <th>Sex</th>\n",
       "      <th>Age</th>\n",
       "      <th>SibSp</th>\n",
       "      <th>Parch</th>\n",
       "      <th>Ticket</th>\n",
       "      <th>Fare</th>\n",
       "      <th>Cabin</th>\n",
       "      <th>Embarked</th>\n",
       "      <th>First_name</th>\n",
       "      <th>surname</th>\n",
       "    </tr>\n",
       "  </thead>\n",
       "  <tbody>\n",
       "    <tr>\n",
       "      <th>16714</th>\n",
       "      <td>16714</td>\n",
       "      <td>1</td>\n",
       "      <td>1</td>\n",
       "      <td>Garcia, Andrea</td>\n",
       "      <td>female</td>\n",
       "      <td>56.0</td>\n",
       "      <td>0</td>\n",
       "      <td>0</td>\n",
       "      <td>PC 28939</td>\n",
       "      <td>121.16</td>\n",
       "      <td>C16511</td>\n",
       "      <td>C</td>\n",
       "      <td>Andrea</td>\n",
       "      <td>Garcia</td>\n",
       "    </tr>\n",
       "    <tr>\n",
       "      <th>2082</th>\n",
       "      <td>2082</td>\n",
       "      <td>0</td>\n",
       "      <td>1</td>\n",
       "      <td>Penney, Mary</td>\n",
       "      <td>female</td>\n",
       "      <td>1.0</td>\n",
       "      <td>8</td>\n",
       "      <td>1</td>\n",
       "      <td>10707</td>\n",
       "      <td>29.14</td>\n",
       "      <td>NaN</td>\n",
       "      <td>S</td>\n",
       "      <td>Mary</td>\n",
       "      <td>Penney</td>\n",
       "    </tr>\n",
       "    <tr>\n",
       "      <th>63164</th>\n",
       "      <td>63164</td>\n",
       "      <td>1</td>\n",
       "      <td>2</td>\n",
       "      <td>Feazel, Samuel</td>\n",
       "      <td>male</td>\n",
       "      <td>20.0</td>\n",
       "      <td>1</td>\n",
       "      <td>0</td>\n",
       "      <td>18224</td>\n",
       "      <td>26.83</td>\n",
       "      <td>NaN</td>\n",
       "      <td>S</td>\n",
       "      <td>Samuel</td>\n",
       "      <td>Feazel</td>\n",
       "    </tr>\n",
       "    <tr>\n",
       "      <th>10481</th>\n",
       "      <td>10481</td>\n",
       "      <td>0</td>\n",
       "      <td>1</td>\n",
       "      <td>Turley, Jonathan</td>\n",
       "      <td>male</td>\n",
       "      <td>31.0</td>\n",
       "      <td>0</td>\n",
       "      <td>0</td>\n",
       "      <td>21540</td>\n",
       "      <td>51.38</td>\n",
       "      <td>A18417</td>\n",
       "      <td>S</td>\n",
       "      <td>Jonathan</td>\n",
       "      <td>Turley</td>\n",
       "    </tr>\n",
       "    <tr>\n",
       "      <th>48691</th>\n",
       "      <td>48691</td>\n",
       "      <td>0</td>\n",
       "      <td>3</td>\n",
       "      <td>Swift, Nathan</td>\n",
       "      <td>male</td>\n",
       "      <td>50.0</td>\n",
       "      <td>0</td>\n",
       "      <td>2</td>\n",
       "      <td>STON/O 417171</td>\n",
       "      <td>67.17</td>\n",
       "      <td>NaN</td>\n",
       "      <td>S</td>\n",
       "      <td>Nathan</td>\n",
       "      <td>Swift</td>\n",
       "    </tr>\n",
       "    <tr>\n",
       "      <th>24801</th>\n",
       "      <td>24801</td>\n",
       "      <td>1</td>\n",
       "      <td>1</td>\n",
       "      <td>Gay, William</td>\n",
       "      <td>male</td>\n",
       "      <td>26.0</td>\n",
       "      <td>1</td>\n",
       "      <td>0</td>\n",
       "      <td>4254008</td>\n",
       "      <td>10.40</td>\n",
       "      <td>NaN</td>\n",
       "      <td>S</td>\n",
       "      <td>William</td>\n",
       "      <td>Gay</td>\n",
       "    </tr>\n",
       "    <tr>\n",
       "      <th>26737</th>\n",
       "      <td>26737</td>\n",
       "      <td>0</td>\n",
       "      <td>3</td>\n",
       "      <td>Buza, Matt</td>\n",
       "      <td>male</td>\n",
       "      <td>44.0</td>\n",
       "      <td>0</td>\n",
       "      <td>0</td>\n",
       "      <td>PP 201027</td>\n",
       "      <td>8.48</td>\n",
       "      <td>NaN</td>\n",
       "      <td>C</td>\n",
       "      <td>Matt</td>\n",
       "      <td>Buza</td>\n",
       "    </tr>\n",
       "    <tr>\n",
       "      <th>61019</th>\n",
       "      <td>61019</td>\n",
       "      <td>0</td>\n",
       "      <td>2</td>\n",
       "      <td>Dennison, Ryan</td>\n",
       "      <td>male</td>\n",
       "      <td>49.0</td>\n",
       "      <td>0</td>\n",
       "      <td>0</td>\n",
       "      <td>179902</td>\n",
       "      <td>98.51</td>\n",
       "      <td>A6945</td>\n",
       "      <td>S</td>\n",
       "      <td>Ryan</td>\n",
       "      <td>Dennison</td>\n",
       "    </tr>\n",
       "    <tr>\n",
       "      <th>5082</th>\n",
       "      <td>5082</td>\n",
       "      <td>1</td>\n",
       "      <td>2</td>\n",
       "      <td>Rendall, Brenda</td>\n",
       "      <td>female</td>\n",
       "      <td>48.0</td>\n",
       "      <td>0</td>\n",
       "      <td>1</td>\n",
       "      <td>10363</td>\n",
       "      <td>27.59</td>\n",
       "      <td>NaN</td>\n",
       "      <td>S</td>\n",
       "      <td>Brenda</td>\n",
       "      <td>Rendall</td>\n",
       "    </tr>\n",
       "    <tr>\n",
       "      <th>18762</th>\n",
       "      <td>18762</td>\n",
       "      <td>0</td>\n",
       "      <td>2</td>\n",
       "      <td>Pierce, Roderick</td>\n",
       "      <td>male</td>\n",
       "      <td>12.0</td>\n",
       "      <td>0</td>\n",
       "      <td>1</td>\n",
       "      <td>3822235</td>\n",
       "      <td>32.17</td>\n",
       "      <td>NaN</td>\n",
       "      <td>S</td>\n",
       "      <td>Roderick</td>\n",
       "      <td>Pierce</td>\n",
       "    </tr>\n",
       "    <tr>\n",
       "      <th>38492</th>\n",
       "      <td>38492</td>\n",
       "      <td>1</td>\n",
       "      <td>3</td>\n",
       "      <td>Stewart, Theresa</td>\n",
       "      <td>female</td>\n",
       "      <td>59.0</td>\n",
       "      <td>1</td>\n",
       "      <td>1</td>\n",
       "      <td>461542</td>\n",
       "      <td>28.07</td>\n",
       "      <td>NaN</td>\n",
       "      <td>C</td>\n",
       "      <td>Theresa</td>\n",
       "      <td>Stewart</td>\n",
       "    </tr>\n",
       "    <tr>\n",
       "      <th>74523</th>\n",
       "      <td>74523</td>\n",
       "      <td>1</td>\n",
       "      <td>1</td>\n",
       "      <td>Persons, Trina</td>\n",
       "      <td>female</td>\n",
       "      <td>25.0</td>\n",
       "      <td>0</td>\n",
       "      <td>0</td>\n",
       "      <td>PC 32239</td>\n",
       "      <td>192.35</td>\n",
       "      <td>A18289</td>\n",
       "      <td>C</td>\n",
       "      <td>Trina</td>\n",
       "      <td>Persons</td>\n",
       "    </tr>\n",
       "    <tr>\n",
       "      <th>78893</th>\n",
       "      <td>78893</td>\n",
       "      <td>1</td>\n",
       "      <td>2</td>\n",
       "      <td>White, Edith</td>\n",
       "      <td>female</td>\n",
       "      <td>43.0</td>\n",
       "      <td>0</td>\n",
       "      <td>1</td>\n",
       "      <td>213864</td>\n",
       "      <td>38.72</td>\n",
       "      <td>NaN</td>\n",
       "      <td>C</td>\n",
       "      <td>Edith</td>\n",
       "      <td>White</td>\n",
       "    </tr>\n",
       "    <tr>\n",
       "      <th>23615</th>\n",
       "      <td>23615</td>\n",
       "      <td>1</td>\n",
       "      <td>1</td>\n",
       "      <td>Silcox, Marlyn</td>\n",
       "      <td>female</td>\n",
       "      <td>53.0</td>\n",
       "      <td>0</td>\n",
       "      <td>0</td>\n",
       "      <td>226506</td>\n",
       "      <td>78.06</td>\n",
       "      <td>C18750</td>\n",
       "      <td>C</td>\n",
       "      <td>Marlyn</td>\n",
       "      <td>Silcox</td>\n",
       "    </tr>\n",
       "    <tr>\n",
       "      <th>71172</th>\n",
       "      <td>71172</td>\n",
       "      <td>0</td>\n",
       "      <td>1</td>\n",
       "      <td>Tuck, Lee</td>\n",
       "      <td>male</td>\n",
       "      <td>NaN</td>\n",
       "      <td>1</td>\n",
       "      <td>0</td>\n",
       "      <td>9676</td>\n",
       "      <td>94.62</td>\n",
       "      <td>A12932</td>\n",
       "      <td>C</td>\n",
       "      <td>Lee</td>\n",
       "      <td>Tuck</td>\n",
       "    </tr>\n",
       "    <tr>\n",
       "      <th>70797</th>\n",
       "      <td>70797</td>\n",
       "      <td>0</td>\n",
       "      <td>3</td>\n",
       "      <td>Sesler, Michael</td>\n",
       "      <td>male</td>\n",
       "      <td>28.0</td>\n",
       "      <td>2</td>\n",
       "      <td>0</td>\n",
       "      <td>29178</td>\n",
       "      <td>9.74</td>\n",
       "      <td>NaN</td>\n",
       "      <td>S</td>\n",
       "      <td>Michael</td>\n",
       "      <td>Sesler</td>\n",
       "    </tr>\n",
       "    <tr>\n",
       "      <th>67378</th>\n",
       "      <td>67378</td>\n",
       "      <td>0</td>\n",
       "      <td>1</td>\n",
       "      <td>Murdock, Tara</td>\n",
       "      <td>female</td>\n",
       "      <td>61.0</td>\n",
       "      <td>0</td>\n",
       "      <td>0</td>\n",
       "      <td>206524</td>\n",
       "      <td>28.43</td>\n",
       "      <td>E11252</td>\n",
       "      <td>C</td>\n",
       "      <td>Tara</td>\n",
       "      <td>Murdock</td>\n",
       "    </tr>\n",
       "    <tr>\n",
       "      <th>55967</th>\n",
       "      <td>55967</td>\n",
       "      <td>1</td>\n",
       "      <td>1</td>\n",
       "      <td>Berry, Margie</td>\n",
       "      <td>female</td>\n",
       "      <td>46.0</td>\n",
       "      <td>0</td>\n",
       "      <td>0</td>\n",
       "      <td>PC 28099</td>\n",
       "      <td>33.52</td>\n",
       "      <td>D17285</td>\n",
       "      <td>C</td>\n",
       "      <td>Margie</td>\n",
       "      <td>Berry</td>\n",
       "    </tr>\n",
       "    <tr>\n",
       "      <th>13128</th>\n",
       "      <td>13128</td>\n",
       "      <td>0</td>\n",
       "      <td>3</td>\n",
       "      <td>Oliveira, Kathleen</td>\n",
       "      <td>female</td>\n",
       "      <td>5.0</td>\n",
       "      <td>1</td>\n",
       "      <td>2</td>\n",
       "      <td>10608</td>\n",
       "      <td>71.06</td>\n",
       "      <td>NaN</td>\n",
       "      <td>S</td>\n",
       "      <td>Kathleen</td>\n",
       "      <td>Oliveira</td>\n",
       "    </tr>\n",
       "    <tr>\n",
       "      <th>14606</th>\n",
       "      <td>14606</td>\n",
       "      <td>1</td>\n",
       "      <td>1</td>\n",
       "      <td>Greenstein, Samuel</td>\n",
       "      <td>male</td>\n",
       "      <td>57.0</td>\n",
       "      <td>0</td>\n",
       "      <td>0</td>\n",
       "      <td>10005</td>\n",
       "      <td>88.34</td>\n",
       "      <td>C4969</td>\n",
       "      <td>S</td>\n",
       "      <td>Samuel</td>\n",
       "      <td>Greenstein</td>\n",
       "    </tr>\n",
       "  </tbody>\n",
       "</table>\n",
       "</div>"
      ],
      "text/plain": [
       "       PassengerId  Survived  Pclass                Name     Sex   Age  SibSp  \\\n",
       "16714        16714         1       1      Garcia, Andrea  female  56.0      0   \n",
       "2082          2082         0       1        Penney, Mary  female   1.0      8   \n",
       "63164        63164         1       2      Feazel, Samuel    male  20.0      1   \n",
       "10481        10481         0       1    Turley, Jonathan    male  31.0      0   \n",
       "48691        48691         0       3       Swift, Nathan    male  50.0      0   \n",
       "24801        24801         1       1        Gay, William    male  26.0      1   \n",
       "26737        26737         0       3          Buza, Matt    male  44.0      0   \n",
       "61019        61019         0       2      Dennison, Ryan    male  49.0      0   \n",
       "5082          5082         1       2     Rendall, Brenda  female  48.0      0   \n",
       "18762        18762         0       2    Pierce, Roderick    male  12.0      0   \n",
       "38492        38492         1       3    Stewart, Theresa  female  59.0      1   \n",
       "74523        74523         1       1      Persons, Trina  female  25.0      0   \n",
       "78893        78893         1       2        White, Edith  female  43.0      0   \n",
       "23615        23615         1       1      Silcox, Marlyn  female  53.0      0   \n",
       "71172        71172         0       1           Tuck, Lee    male   NaN      1   \n",
       "70797        70797         0       3     Sesler, Michael    male  28.0      2   \n",
       "67378        67378         0       1       Murdock, Tara  female  61.0      0   \n",
       "55967        55967         1       1       Berry, Margie  female  46.0      0   \n",
       "13128        13128         0       3  Oliveira, Kathleen  female   5.0      1   \n",
       "14606        14606         1       1  Greenstein, Samuel    male  57.0      0   \n",
       "\n",
       "       Parch         Ticket    Fare   Cabin Embarked First_name     surname  \n",
       "16714      0       PC 28939  121.16  C16511        C     Andrea      Garcia  \n",
       "2082       1          10707   29.14     NaN        S       Mary      Penney  \n",
       "63164      0          18224   26.83     NaN        S     Samuel      Feazel  \n",
       "10481      0          21540   51.38  A18417        S   Jonathan      Turley  \n",
       "48691      2  STON/O 417171   67.17     NaN        S     Nathan       Swift  \n",
       "24801      0        4254008   10.40     NaN        S    William         Gay  \n",
       "26737      0      PP 201027    8.48     NaN        C       Matt        Buza  \n",
       "61019      0         179902   98.51   A6945        S       Ryan    Dennison  \n",
       "5082       1          10363   27.59     NaN        S     Brenda     Rendall  \n",
       "18762      1        3822235   32.17     NaN        S   Roderick      Pierce  \n",
       "38492      1         461542   28.07     NaN        C    Theresa     Stewart  \n",
       "74523      0       PC 32239  192.35  A18289        C      Trina     Persons  \n",
       "78893      1         213864   38.72     NaN        C      Edith       White  \n",
       "23615      0         226506   78.06  C18750        C     Marlyn      Silcox  \n",
       "71172      0           9676   94.62  A12932        C        Lee        Tuck  \n",
       "70797      0          29178    9.74     NaN        S    Michael      Sesler  \n",
       "67378      0         206524   28.43  E11252        C       Tara     Murdock  \n",
       "55967      0       PC 28099   33.52  D17285        C     Margie       Berry  \n",
       "13128      2          10608   71.06     NaN        S   Kathleen    Oliveira  \n",
       "14606      0          10005   88.34   C4969        S     Samuel  Greenstein  "
      ]
     },
     "execution_count": 130,
     "metadata": {},
     "output_type": "execute_result"
    }
   ],
   "source": [
    "df.sample(20)"
   ]
  },
  {
   "cell_type": "markdown",
   "id": "74b5cc08",
   "metadata": {},
   "source": [
    "В результате анализа, было проверено несколько теорий:     \n",
    "    1) Связь номера билетов и родствеников.    \n",
    "    2) Связь номеров билетов и стоимости.    \n",
    "    3) Связь номеров билетов и классов пассажира    \n",
    "    4) Связь номеров билетов и возраста.    \n",
    "По итогу. Обнаружена небольшая связть между классами. Номера билетов из первого класса не повторяються с пассажирами второго и третьего класса."
   ]
  },
  {
   "cell_type": "markdown",
   "id": "54a5f238",
   "metadata": {},
   "source": [
    "# Fare"
   ]
  },
  {
   "cell_type": "markdown",
   "id": "990d4af6",
   "metadata": {},
   "source": [
    "Стоимость билета у нас непрерывная переменная. Построим графики и выведем описательную статистику."
   ]
  },
  {
   "cell_type": "code",
   "execution_count": 131,
   "id": "13800342",
   "metadata": {},
   "outputs": [
    {
     "data": {
      "text/plain": [
       "<AxesSubplot:ylabel='Frequency'>"
      ]
     },
     "execution_count": 131,
     "metadata": {},
     "output_type": "execute_result"
    },
    {
     "data": {
      "image/png": "[encoded data removed]",
      "text/plain": [
       "<Figure size 432x288 with 1 Axes>"
      ]
     },
     "metadata": {
      "needs_background": "light"
     },
     "output_type": "display_data"
    }
   ],
   "source": [
    "df.Fare.plot.hist()"
   ]
  },
  {
   "cell_type": "code",
   "execution_count": 132,
   "id": "30d92835",
   "metadata": {},
   "outputs": [
    {
     "name": "stderr",
     "output_type": "stream",
     "text": [
      "C:\\Users\\User\\anaconda3\\lib\\site-packages\\seaborn\\_decorators.py:36: FutureWarning: Pass the following variable as a keyword arg: x. From version 0.12, the only valid positional argument will be `data`, and passing other arguments without an explicit keyword will result in an error or misinterpretation.\n",
      "  warnings.warn(\n"
     ]
    },
    {
     "data": {
      "text/plain": [
       "<AxesSubplot:xlabel='Fare'>"
      ]
     },
     "execution_count": 132,
     "metadata": {},
     "output_type": "execute_result"
    },
    {
     "data": {
      "image/png": "[encoded data removed]",
      "text/plain": [
       "<Figure size 432x288 with 1 Axes>"
      ]
     },
     "metadata": {
      "needs_background": "light"
     },
     "output_type": "display_data"
    }
   ],
   "source": [
    "sns.boxplot(df.Fare)"
   ]
  },
  {
   "cell_type": "code",
   "execution_count": 133,
   "id": "590980de",
   "metadata": {},
   "outputs": [
    {
     "data": {
      "text/plain": [
       "count    99866.00000\n",
       "mean        43.92933\n",
       "std         69.58882\n",
       "min          0.68000\n",
       "25%         10.04000\n",
       "50%         24.46000\n",
       "75%         33.50000\n",
       "max        744.66000\n",
       "Name: Fare, dtype: float64"
      ]
     },
     "execution_count": 133,
     "metadata": {},
     "output_type": "execute_result"
    }
   ],
   "source": [
    "df.Fare.describe()"
   ]
  },
  {
   "cell_type": "code",
   "execution_count": 134,
   "id": "197007f0",
   "metadata": {},
   "outputs": [
    {
     "name": "stdout",
     "output_type": "stream",
     "text": [
      "Мода\n"
     ]
    },
    {
     "data": {
      "text/plain": [
       "0    9.27\n",
       "1    9.85\n",
       "dtype: float64"
      ]
     },
     "execution_count": 134,
     "metadata": {},
     "output_type": "execute_result"
    }
   ],
   "source": [
    "print('Мода')\n",
    "df.Fare.mode()"
   ]
  },
  {
   "cell_type": "markdown",
   "id": "11c5dce7",
   "metadata": {},
   "source": [
    "Как мы видим, большинство билетов и не стоят больше 75 баксов. Что соответствует стоимости билетов пассажиров третьего и второго класса, которых было большинство на Титанике."
   ]
  },
  {
   "cell_type": "markdown",
   "id": "06d31ba8",
   "metadata": {},
   "source": [
    "# Cabin"
   ]
  },
  {
   "cell_type": "code",
   "execution_count": 135,
   "id": "de583dfd",
   "metadata": {},
   "outputs": [
    {
     "data": {
      "text/plain": [
       "26993"
      ]
     },
     "execution_count": 135,
     "metadata": {},
     "output_type": "execute_result"
    }
   ],
   "source": [
    "# Посмотрим на количество уникальных переменных\n",
    "len(df.Cabin.unique())"
   ]
  },
  {
   "cell_type": "markdown",
   "id": "d00c9f05",
   "metadata": {},
   "source": [
    "В целом из 32134 представленных квартир, всего 26993 являются уникальными значениями. В целом как известно из истории, пассажиры третьего класса жили по несколько человек в одной кабине."
   ]
  },
  {
   "cell_type": "markdown",
   "id": "8d10ac63",
   "metadata": {},
   "source": [
    "# Embarked"
   ]
  },
  {
   "cell_type": "code",
   "execution_count": 136,
   "id": "34f2e749",
   "metadata": {},
   "outputs": [
    {
     "name": "stdout",
     "output_type": "stream",
     "text": [
      "Анализируем столбец Embarked \n",
      "Уникальные значения : ['S' 'C' 'Q' nan]\n",
      "---------------------------------------------------------\n",
      "Кол-во нулевых значений 250 \n",
      "Мода - 0    S\n",
      "dtype: object\n",
      "count     99750\n",
      "unique        3\n",
      "top           S\n",
      "freq      72139\n",
      "Name: Embarked, dtype: object\n",
      "Численное распределение\n",
      "S    72139\n",
      "C    22187\n",
      "Q     5424\n",
      "Name: Embarked, dtype: int64\n"
     ]
    },
    {
     "data": {
      "image/png": "[encoded data removed]",
      "text/plain": [
       "<Figure size 1152x576 with 1 Axes>"
      ]
     },
     "metadata": {
      "needs_background": "light"
     },
     "output_type": "display_data"
    }
   ],
   "source": [
    "look_at_col(df, 'Embarked')"
   ]
  },
  {
   "cell_type": "markdown",
   "id": "bb7732dc",
   "metadata": {},
   "source": [
    "Большинство пассажиров сели в порту S."
   ]
  },
  {
   "cell_type": "markdown",
   "id": "35649a83",
   "metadata": {},
   "source": [
    "# Data exploration"
   ]
  },
  {
   "cell_type": "markdown",
   "id": "0a5b7f4a",
   "metadata": {},
   "source": [
    "# Давайте посмотрим на распределение переменных в рамках других признаков. "
   ]
  },
  {
   "cell_type": "markdown",
   "id": "a2a72610",
   "metadata": {},
   "source": [
    "### Изучение распределение возраста, пола, количества родственников на борту и порт поссадки для каждого класса."
   ]
  },
  {
   "cell_type": "code",
   "execution_count": 137,
   "id": "70042fa2",
   "metadata": {},
   "outputs": [
    {
     "data": {
      "text/plain": [
       "<AxesSubplot:xlabel='Pclass', ylabel='count'>"
      ]
     },
     "execution_count": 137,
     "metadata": {},
     "output_type": "execute_result"
    },
    {
     "data": {
      "image/png": "[encoded data removed]",
      "text/plain": [
       "<Figure size 432x288 with 1 Axes>"
      ]
     },
     "metadata": {
      "needs_background": "light"
     },
     "output_type": "display_data"
    }
   ],
   "source": [
    "sns.countplot( x='Pclass', hue = 'Sex',  data=df, palette=\"rocket\")"
   ]
  },
  {
   "cell_type": "code",
   "execution_count": 138,
   "id": "f2b5e051",
   "metadata": {},
   "outputs": [
    {
     "data": {
      "image/png": "[encoded data removed]",
      "text/plain": [
       "<Figure size 1152x576 with 1 Axes>"
      ]
     },
     "metadata": {
      "needs_background": "light"
     },
     "output_type": "display_data"
    }
   ],
   "source": [
    "plt.figure(figsize=(16, 8))\n",
    "ax = sns.countplot(x='Age', hue='Pclass',  data=df, palette=\"rocket\")\n",
    "ax.tick_params(axis='x', labelrotation=90)"
   ]
  },
  {
   "cell_type": "code",
   "execution_count": 139,
   "id": "70ab9717",
   "metadata": {},
   "outputs": [
    {
     "data": {
      "text/plain": [
       "<AxesSubplot:xlabel='Parch', ylabel='count'>"
      ]
     },
     "execution_count": 139,
     "metadata": {},
     "output_type": "execute_result"
    },
    {
     "data": {
      "image/png": "[encoded data removed]",
      "text/plain": [
       "<Figure size 432x288 with 1 Axes>"
      ]
     },
     "metadata": {
      "needs_background": "light"
     },
     "output_type": "display_data"
    }
   ],
   "source": [
    "sns.countplot(x='Parch', hue='Pclass', data=df, palette=\"rocket\")"
   ]
  },
  {
   "cell_type": "code",
   "execution_count": 140,
   "id": "3faaf211",
   "metadata": {},
   "outputs": [
    {
     "data": {
      "text/plain": [
       "<AxesSubplot:xlabel='SibSp', ylabel='count'>"
      ]
     },
     "execution_count": 140,
     "metadata": {},
     "output_type": "execute_result"
    },
    {
     "data": {
      "image/png": "[encoded data removed]",
      "text/plain": [
       "<Figure size 432x288 with 1 Axes>"
      ]
     },
     "metadata": {
      "needs_background": "light"
     },
     "output_type": "display_data"
    }
   ],
   "source": [
    "sns.countplot(x='SibSp', hue='Pclass',  data=df, palette=\"rocket\")"
   ]
  },
  {
   "cell_type": "code",
   "execution_count": 141,
   "id": "3210d753",
   "metadata": {},
   "outputs": [
    {
     "data": {
      "text/plain": [
       "<AxesSubplot:xlabel='Embarked', ylabel='count'>"
      ]
     },
     "execution_count": 141,
     "metadata": {},
     "output_type": "execute_result"
    },
    {
     "data": {
      "image/png": "[encoded data removed]",
      "text/plain": [
       "<Figure size 432x288 with 1 Axes>"
      ]
     },
     "metadata": {
      "needs_background": "light"
     },
     "output_type": "display_data"
    }
   ],
   "source": [
    "sns.countplot(x='Embarked', hue='Pclass',  data=df, palette=\"rocket\")"
   ]
  },
  {
   "cell_type": "code",
   "execution_count": 142,
   "id": "8498ccb0",
   "metadata": {},
   "outputs": [
    {
     "data": {
      "text/plain": [
       "<AxesSubplot:xlabel='Pclass', ylabel='Fare'>"
      ]
     },
     "execution_count": 142,
     "metadata": {},
     "output_type": "execute_result"
    },
    {
     "data": {
      "image/png": "[encoded data removed]",
      "text/plain": [
       "<Figure size 432x288 with 1 Axes>"
      ]
     },
     "metadata": {
      "needs_background": "light"
     },
     "output_type": "display_data"
    }
   ],
   "source": [
    "sns.boxplot(x='Pclass', y='Fare',  data=df, palette=\"rocket\")"
   ]
  },
  {
   "cell_type": "markdown",
   "id": "ba745039",
   "metadata": {},
   "source": [
    "В целом в каждом классе, чуть больше женщин чем мужчин. Но видим большой дисбаланс в третьем классе. Очень много мужчин. Видимо в те времена бедные мужчины получали больше денег чем женщины.      \n",
    "В первом классе больше людей в возрасте от 40 до 63. В остальных случаях людей с первого класса больше.       \n",
    "Так же, большинство пассажиров с первого класса взяли с собой в детей.      \n",
    "Так же почти все пассажиры третьего класса сели в парту S. В порту С и Q село меньше людей.      \n",
    "Так же судя по последнему графику. У нас есть очень много дорогих билетов во втором и третьем классе. По в целом с такой стоимостью билета, пассажиры могли быть и в первом классе. Видимо это выброси, либо были ещё какие-то условия, что бы можно было попасть в первый класс.       "
   ]
  },
  {
   "cell_type": "markdown",
   "id": "7f055a0e",
   "metadata": {},
   "source": [
    "### Изучить распределение признаков по полу"
   ]
  },
  {
   "cell_type": "code",
   "execution_count": 143,
   "id": "0101d9dc",
   "metadata": {},
   "outputs": [
    {
     "data": {
      "image/png": "[encoded data removed]",
      "text/plain": [
       "<Figure size 1152x576 with 1 Axes>"
      ]
     },
     "metadata": {
      "needs_background": "light"
     },
     "output_type": "display_data"
    }
   ],
   "source": [
    "plt.figure(figsize=(16, 8))\n",
    "ax = sns.countplot(x='Age', hue='Sex',  data=df, palette=\"rocket\")\n",
    "ax.tick_params(axis='x', labelrotation=90)"
   ]
  },
  {
   "cell_type": "code",
   "execution_count": 144,
   "id": "2e0f5a1a",
   "metadata": {},
   "outputs": [
    {
     "data": {
      "text/plain": [
       "<AxesSubplot:xlabel='Parch', ylabel='count'>"
      ]
     },
     "execution_count": 144,
     "metadata": {},
     "output_type": "execute_result"
    },
    {
     "data": {
      "image/png": "[encoded data removed]",
      "text/plain": [
       "<Figure size 432x288 with 1 Axes>"
      ]
     },
     "metadata": {
      "needs_background": "light"
     },
     "output_type": "display_data"
    }
   ],
   "source": [
    "sns.countplot(x='Parch', hue='Sex', data=df, palette=\"rocket\")"
   ]
  },
  {
   "cell_type": "code",
   "execution_count": 145,
   "id": "033509be",
   "metadata": {},
   "outputs": [
    {
     "data": {
      "text/plain": [
       "<AxesSubplot:xlabel='SibSp', ylabel='count'>"
      ]
     },
     "execution_count": 145,
     "metadata": {},
     "output_type": "execute_result"
    },
    {
     "data": {
      "image/png": "[encoded data removed]",
      "text/plain": [
       "<Figure size 432x288 with 1 Axes>"
      ]
     },
     "metadata": {
      "needs_background": "light"
     },
     "output_type": "display_data"
    }
   ],
   "source": [
    "sns.countplot(x='SibSp', hue='Sex', data=df, palette=\"rocket\")"
   ]
  },
  {
   "cell_type": "code",
   "execution_count": 146,
   "id": "54e67444",
   "metadata": {},
   "outputs": [
    {
     "data": {
      "text/plain": [
       "<AxesSubplot:xlabel='Embarked', ylabel='count'>"
      ]
     },
     "execution_count": 146,
     "metadata": {},
     "output_type": "execute_result"
    },
    {
     "data": {
      "image/png": "[encoded data removed]",
      "text/plain": [
       "<Figure size 432x288 with 1 Axes>"
      ]
     },
     "metadata": {
      "needs_background": "light"
     },
     "output_type": "display_data"
    }
   ],
   "source": [
    "sns.countplot(x='Embarked', hue='Sex',  data=df, palette=\"rocket\")"
   ]
  },
  {
   "cell_type": "markdown",
   "id": "cfcc29a5",
   "metadata": {},
   "source": [
    "По возрасту, распределение почти одинаковое. Учитывая, что на борту больше мужчин. Однако детей-девочек от 4 до 14 лет больше чем мужчин. И более престарелого возраста начиная от 61. Женщин больше. Во всех остальных случаях больше мужчин. Особенно много мужчин от 17 до 30 лет. Видимо это все те же пассажиры третьего класса.     \n",
    "Женщин со значением Parch =  1 и 3 больше, чем мужчин.    \n",
    "Признаке SibSp мужчин во всех группах больше чем женщин.    \n",
    "Теперь все ясно. В портах C и Q село больше женщин.    "
   ]
  },
  {
   "cell_type": "markdown",
   "id": "f9292e88",
   "metadata": {},
   "source": [
    "### Изучим влияние наших признаков на выживаемость."
   ]
  },
  {
   "cell_type": "code",
   "execution_count": 147,
   "id": "2cf31fd7",
   "metadata": {},
   "outputs": [
    {
     "data": {
      "text/plain": [
       "<AxesSubplot:xlabel='Pclass', ylabel='count'>"
      ]
     },
     "execution_count": 147,
     "metadata": {},
     "output_type": "execute_result"
    },
    {
     "data": {
      "image/png": "[encoded data removed]",
      "text/plain": [
       "<Figure size 432x288 with 1 Axes>"
      ]
     },
     "metadata": {
      "needs_background": "light"
     },
     "output_type": "display_data"
    }
   ],
   "source": [
    "sns.countplot( x='Pclass', hue = 'Survived',  data=df, palette=\"rocket\")"
   ]
  },
  {
   "cell_type": "code",
   "execution_count": 148,
   "id": "1dccb1b1",
   "metadata": {},
   "outputs": [
    {
     "data": {
      "text/plain": [
       "<AxesSubplot:xlabel='Sex', ylabel='count'>"
      ]
     },
     "execution_count": 148,
     "metadata": {},
     "output_type": "execute_result"
    },
    {
     "data": {
      "image/png": "[encoded data removed]",
      "text/plain": [
       "<Figure size 432x288 with 1 Axes>"
      ]
     },
     "metadata": {
      "needs_background": "light"
     },
     "output_type": "display_data"
    }
   ],
   "source": [
    "sns.countplot( x='Sex', hue = 'Survived',  data=df, palette=\"rocket\")"
   ]
  },
  {
   "cell_type": "code",
   "execution_count": 149,
   "id": "62b246d7",
   "metadata": {},
   "outputs": [
    {
     "data": {
      "image/png": "[encoded data removed]",
      "text/plain": [
       "<Figure size 1152x576 with 1 Axes>"
      ]
     },
     "metadata": {
      "needs_background": "light"
     },
     "output_type": "display_data"
    }
   ],
   "source": [
    "plt.figure(figsize=(16,8))\n",
    "ax = sns.countplot( x='Age', hue = 'Survived',  data=df, palette=\"rocket\")\n",
    "ax.tick_params(axis='x', labelrotation=90)"
   ]
  },
  {
   "cell_type": "code",
   "execution_count": 150,
   "id": "2bb392fa",
   "metadata": {},
   "outputs": [
    {
     "data": {
      "text/plain": [
       "<AxesSubplot:xlabel='Parch', ylabel='count'>"
      ]
     },
     "execution_count": 150,
     "metadata": {},
     "output_type": "execute_result"
    },
    {
     "data": {
      "image/png": "[encoded data removed]",
      "text/plain": [
       "<Figure size 432x288 with 1 Axes>"
      ]
     },
     "metadata": {
      "needs_background": "light"
     },
     "output_type": "display_data"
    }
   ],
   "source": [
    "sns.countplot( x='Parch', hue = 'Survived',  data=df, palette=\"rocket\")"
   ]
  },
  {
   "cell_type": "code",
   "execution_count": 151,
   "id": "43039611",
   "metadata": {},
   "outputs": [
    {
     "data": {
      "text/plain": [
       "<AxesSubplot:xlabel='SibSp', ylabel='count'>"
      ]
     },
     "execution_count": 151,
     "metadata": {},
     "output_type": "execute_result"
    },
    {
     "data": {
      "image/png": "[encoded data removed]",
      "text/plain": [
       "<Figure size 432x288 with 1 Axes>"
      ]
     },
     "metadata": {
      "needs_background": "light"
     },
     "output_type": "display_data"
    }
   ],
   "source": [
    "sns.countplot( x='SibSp', hue = 'Survived',  data=df, palette=\"rocket\")"
   ]
  },
  {
   "cell_type": "code",
   "execution_count": 152,
   "id": "cd80f3b7",
   "metadata": {},
   "outputs": [
    {
     "data": {
      "text/plain": [
       "<AxesSubplot:xlabel='Embarked', ylabel='count'>"
      ]
     },
     "execution_count": 152,
     "metadata": {},
     "output_type": "execute_result"
    },
    {
     "data": {
      "image/png": "[encoded data removed]",
      "text/plain": [
       "<Figure size 432x288 with 1 Axes>"
      ]
     },
     "metadata": {
      "needs_background": "light"
     },
     "output_type": "display_data"
    }
   ],
   "source": [
    "sns.countplot(x='Embarked', hue='Survived',  data=df, palette=\"rocket\")"
   ]
  },
  {
   "cell_type": "code",
   "execution_count": 153,
   "id": "73955470",
   "metadata": {},
   "outputs": [
    {
     "data": {
      "text/plain": [
       "<AxesSubplot:xlabel='Survived', ylabel='Fare'>"
      ]
     },
     "execution_count": 153,
     "metadata": {},
     "output_type": "execute_result"
    },
    {
     "data": {
      "image/png": "[encoded data removed]",
      "text/plain": [
       "<Figure size 432x288 with 1 Axes>"
      ]
     },
     "metadata": {
      "needs_background": "light"
     },
     "output_type": "display_data"
    }
   ],
   "source": [
    "sns.boxplot(x='Survived', y='Fare',  data=df, palette=\"rocket\")"
   ]
  },
  {
   "cell_type": "markdown",
   "id": "1839431b",
   "metadata": {},
   "source": [
    "Как мы видим выживаемость больше среди пассажиров первого класса. Видимо их эвакуировали в первую очередь. В связи с этим и большинство пассажиров в возрасте от 40 до 63 были спасены, которые являлись пассажирами первого класса.    \n",
    "Так же выживаемость больше у детей в возрасте от 10 до 15 лет. Отметим, что в выборке в этом возрасте больше девочек, чем мальчиков.\n",
    "Так же в первую очередь спасали женщин.    \n",
    "Весьма интересно что, если у тебя был один родственник был на бору, вероятность спастись была чутка выше.    \n",
    "Наличие на борту родителей или детей не особо влияло на выживаемость.    \n",
    "Люди, которые сели в порту C и Q выживали чаше, чем те, которые сели в S. Опять же это связано с тем, что в этих портах село больше пассажиров первого класса.    \n",
    "Так же видно, что люди, которые выжили в среднем платили чуть больше за билет. Однако это связано с тем, что выжило больше людей первого класса, которые платили больше за билет.    "
   ]
  },
  {
   "cell_type": "markdown",
   "id": "a8773918",
   "metadata": {},
   "source": [
    "### Статичстический тест"
   ]
  },
  {
   "cell_type": "code",
   "execution_count": 154,
   "id": "7659ca3a",
   "metadata": {},
   "outputs": [],
   "source": [
    "col = [ 'Sex','Embarked','surname']\n",
    "col_2 = ['Pclass','Age', 'SibSp', 'Parch']\n"
   ]
  },
  {
   "cell_type": "code",
   "execution_count": 155,
   "id": "e6bdce82",
   "metadata": {},
   "outputs": [],
   "source": [
    "df_2 = df.copy().dropna()"
   ]
  },
  {
   "cell_type": "code",
   "execution_count": 156,
   "id": "7a864885",
   "metadata": {},
   "outputs": [],
   "source": [
    "label_encoder = LabelEncoder()\n",
    "for column in col:\n",
    "    df_2[column] = label_encoder.fit_transform(df_2[column])"
   ]
  },
  {
   "cell_type": "code",
   "execution_count": 157,
   "id": "704e299c",
   "metadata": {
    "scrolled": true
   },
   "outputs": [
    {
     "data": {
      "text/plain": [
       "<AxesSubplot:>"
      ]
     },
     "execution_count": 157,
     "metadata": {},
     "output_type": "execute_result"
    },
    {
     "data": {
      "image/png": "[encoded data removed]",
      "text/plain": [
       "<Figure size 432x288 with 1 Axes>"
      ]
     },
     "metadata": {
      "needs_background": "light"
     },
     "output_type": "display_data"
    }
   ],
   "source": [
    "imp_cat = pd.Series(mutual_info_classif(df_2[col+col_2],\n",
    "                                        df_2['Survived'], discrete_features=True),\n",
    "                                        index=col+col_2)\n",
    "imp_cat.sort_values(inplace=True)\n",
    "imp_cat.plot(kind='barh')"
   ]
  },
  {
   "cell_type": "markdown",
   "id": "9d5ee873",
   "metadata": {},
   "source": [
    "Весьма интересно, что Фамилия играет большую роль. Изучим пару экземпляров"
   ]
  },
  {
   "cell_type": "markdown",
   "id": "52561403",
   "metadata": {},
   "source": [
    "Судя по графикам в первую очередь спасали определьнные семьи, потом женщин.     \n",
    "После идет порт посадки, который тоже неявно связан с полом. Т.к. в портах С и Q село больше жещни.  "
   ]
  },
  {
   "cell_type": "code",
   "execution_count": 158,
   "id": "9560f8c4",
   "metadata": {},
   "outputs": [
    {
     "data": {
      "text/html": [
       "<div>\n",
       "<style scoped>\n",
       "    .dataframe tbody tr th:only-of-type {\n",
       "        vertical-align: middle;\n",
       "    }\n",
       "\n",
       "    .dataframe tbody tr th {\n",
       "        vertical-align: top;\n",
       "    }\n",
       "\n",
       "    .dataframe thead th {\n",
       "        text-align: right;\n",
       "    }\n",
       "</style>\n",
       "<table border=\"1\" class=\"dataframe\">\n",
       "  <thead>\n",
       "    <tr style=\"text-align: right;\">\n",
       "      <th></th>\n",
       "      <th>Total</th>\n",
       "      <th>Survived</th>\n",
       "    </tr>\n",
       "  </thead>\n",
       "  <tbody>\n",
       "    <tr>\n",
       "      <th>Smith</th>\n",
       "      <td>1162</td>\n",
       "      <td>506</td>\n",
       "    </tr>\n",
       "    <tr>\n",
       "      <th>Johnson</th>\n",
       "      <td>950</td>\n",
       "      <td>403</td>\n",
       "    </tr>\n",
       "    <tr>\n",
       "      <th>Williams</th>\n",
       "      <td>733</td>\n",
       "      <td>301</td>\n",
       "    </tr>\n",
       "    <tr>\n",
       "      <th>Jones</th>\n",
       "      <td>681</td>\n",
       "      <td>299</td>\n",
       "    </tr>\n",
       "    <tr>\n",
       "      <th>Brown</th>\n",
       "      <td>665</td>\n",
       "      <td>288</td>\n",
       "    </tr>\n",
       "    <tr>\n",
       "      <th>...</th>\n",
       "      <td>...</td>\n",
       "      <td>...</td>\n",
       "    </tr>\n",
       "    <tr>\n",
       "      <th>Kempson</th>\n",
       "      <td>1</td>\n",
       "      <td>1</td>\n",
       "    </tr>\n",
       "    <tr>\n",
       "      <th>Fraughton</th>\n",
       "      <td>1</td>\n",
       "      <td>0</td>\n",
       "    </tr>\n",
       "    <tr>\n",
       "      <th>Mathwich</th>\n",
       "      <td>1</td>\n",
       "      <td>1</td>\n",
       "    </tr>\n",
       "    <tr>\n",
       "      <th>Wenz</th>\n",
       "      <td>1</td>\n",
       "      <td>0</td>\n",
       "    </tr>\n",
       "    <tr>\n",
       "      <th>Harrier</th>\n",
       "      <td>1</td>\n",
       "      <td>0</td>\n",
       "    </tr>\n",
       "  </tbody>\n",
       "</table>\n",
       "<p>21558 rows × 2 columns</p>\n",
       "</div>"
      ],
      "text/plain": [
       "           Total  Survived\n",
       "Smith       1162       506\n",
       "Johnson      950       403\n",
       "Williams     733       301\n",
       "Jones        681       299\n",
       "Brown        665       288\n",
       "...          ...       ...\n",
       "Kempson        1         1\n",
       "Fraughton      1         0\n",
       "Mathwich       1         1\n",
       "Wenz           1         0\n",
       "Harrier        1         0\n",
       "\n",
       "[21558 rows x 2 columns]"
      ]
     },
     "execution_count": 158,
     "metadata": {},
     "output_type": "execute_result"
    }
   ],
   "source": [
    "avv = df.surname.value_counts()\n",
    "avv2 = df.groupby('surname').sum()['Survived']\n",
    "df_av_1 = pd.DataFrame(avv)\n",
    "df_av_1.columns = [\"Total\"]\n",
    "df_av_2 = pd.DataFrame(avv2)\n",
    "df_surv_total = df_av_1.merge(df_av_2, how='inner', right_index=True,left_index=True)\n",
    "df_surv_total"
   ]
  },
  {
   "cell_type": "code",
   "execution_count": 159,
   "id": "0d3f37a0",
   "metadata": {},
   "outputs": [],
   "source": [
    "avv2 = df.groupby('surname').sum()['Survived']"
   ]
  },
  {
   "cell_type": "code",
   "execution_count": 160,
   "id": "9d33a6f1",
   "metadata": {},
   "outputs": [],
   "source": [
    "df_av_1 = pd.DataFrame(avv)"
   ]
  },
  {
   "cell_type": "code",
   "execution_count": 161,
   "id": "c4833523",
   "metadata": {},
   "outputs": [],
   "source": [
    "df_av_1.columns = [\"Total\"]"
   ]
  },
  {
   "cell_type": "code",
   "execution_count": 162,
   "id": "3521c81a",
   "metadata": {},
   "outputs": [],
   "source": [
    "df_av_2 = pd.DataFrame(avv2)"
   ]
  },
  {
   "cell_type": "code",
   "execution_count": 163,
   "id": "acdaf4d1",
   "metadata": {},
   "outputs": [],
   "source": [
    "df_surv_total = df_av_1.merge(df_av_2, how='inner', right_index=True,left_index=True)"
   ]
  },
  {
   "cell_type": "code",
   "execution_count": 164,
   "id": "bd0d9f1c",
   "metadata": {},
   "outputs": [
    {
     "data": {
      "text/html": [
       "<div>\n",
       "<style scoped>\n",
       "    .dataframe tbody tr th:only-of-type {\n",
       "        vertical-align: middle;\n",
       "    }\n",
       "\n",
       "    .dataframe tbody tr th {\n",
       "        vertical-align: top;\n",
       "    }\n",
       "\n",
       "    .dataframe thead th {\n",
       "        text-align: right;\n",
       "    }\n",
       "</style>\n",
       "<table border=\"1\" class=\"dataframe\">\n",
       "  <thead>\n",
       "    <tr style=\"text-align: right;\">\n",
       "      <th></th>\n",
       "      <th>Total</th>\n",
       "      <th>Survived</th>\n",
       "    </tr>\n",
       "  </thead>\n",
       "  <tbody>\n",
       "    <tr>\n",
       "      <th>Smith</th>\n",
       "      <td>1162</td>\n",
       "      <td>506</td>\n",
       "    </tr>\n",
       "    <tr>\n",
       "      <th>Johnson</th>\n",
       "      <td>950</td>\n",
       "      <td>403</td>\n",
       "    </tr>\n",
       "    <tr>\n",
       "      <th>Williams</th>\n",
       "      <td>733</td>\n",
       "      <td>301</td>\n",
       "    </tr>\n",
       "    <tr>\n",
       "      <th>Jones</th>\n",
       "      <td>681</td>\n",
       "      <td>299</td>\n",
       "    </tr>\n",
       "    <tr>\n",
       "      <th>Brown</th>\n",
       "      <td>665</td>\n",
       "      <td>288</td>\n",
       "    </tr>\n",
       "    <tr>\n",
       "      <th>...</th>\n",
       "      <td>...</td>\n",
       "      <td>...</td>\n",
       "    </tr>\n",
       "    <tr>\n",
       "      <th>Kempson</th>\n",
       "      <td>1</td>\n",
       "      <td>1</td>\n",
       "    </tr>\n",
       "    <tr>\n",
       "      <th>Fraughton</th>\n",
       "      <td>1</td>\n",
       "      <td>0</td>\n",
       "    </tr>\n",
       "    <tr>\n",
       "      <th>Mathwich</th>\n",
       "      <td>1</td>\n",
       "      <td>1</td>\n",
       "    </tr>\n",
       "    <tr>\n",
       "      <th>Wenz</th>\n",
       "      <td>1</td>\n",
       "      <td>0</td>\n",
       "    </tr>\n",
       "    <tr>\n",
       "      <th>Harrier</th>\n",
       "      <td>1</td>\n",
       "      <td>0</td>\n",
       "    </tr>\n",
       "  </tbody>\n",
       "</table>\n",
       "<p>21558 rows × 2 columns</p>\n",
       "</div>"
      ],
      "text/plain": [
       "           Total  Survived\n",
       "Smith       1162       506\n",
       "Johnson      950       403\n",
       "Williams     733       301\n",
       "Jones        681       299\n",
       "Brown        665       288\n",
       "...          ...       ...\n",
       "Kempson        1         1\n",
       "Fraughton      1         0\n",
       "Mathwich       1         1\n",
       "Wenz           1         0\n",
       "Harrier        1         0\n",
       "\n",
       "[21558 rows x 2 columns]"
      ]
     },
     "execution_count": 164,
     "metadata": {},
     "output_type": "execute_result"
    }
   ],
   "source": [
    "df_surv_total"
   ]
  },
  {
   "cell_type": "code",
   "execution_count": 165,
   "id": "cdec1c74",
   "metadata": {},
   "outputs": [],
   "source": [
    "df_surv_total['percent'] = df_surv_total['Survived'] / df_surv_total['Total'] "
   ]
  },
  {
   "cell_type": "code",
   "execution_count": 166,
   "id": "6f7b27d3",
   "metadata": {
    "scrolled": true
   },
   "outputs": [
    {
     "data": {
      "text/html": [
       "<div>\n",
       "<style scoped>\n",
       "    .dataframe tbody tr th:only-of-type {\n",
       "        vertical-align: middle;\n",
       "    }\n",
       "\n",
       "    .dataframe tbody tr th {\n",
       "        vertical-align: top;\n",
       "    }\n",
       "\n",
       "    .dataframe thead th {\n",
       "        text-align: right;\n",
       "    }\n",
       "</style>\n",
       "<table border=\"1\" class=\"dataframe\">\n",
       "  <thead>\n",
       "    <tr style=\"text-align: right;\">\n",
       "      <th></th>\n",
       "      <th>Total</th>\n",
       "      <th>Survived</th>\n",
       "      <th>percent</th>\n",
       "    </tr>\n",
       "  </thead>\n",
       "  <tbody>\n",
       "    <tr>\n",
       "      <th>Homza</th>\n",
       "      <td>1</td>\n",
       "      <td>1</td>\n",
       "      <td>1.0</td>\n",
       "    </tr>\n",
       "    <tr>\n",
       "      <th>Jankowiak</th>\n",
       "      <td>2</td>\n",
       "      <td>2</td>\n",
       "      <td>1.0</td>\n",
       "    </tr>\n",
       "    <tr>\n",
       "      <th>Greig</th>\n",
       "      <td>4</td>\n",
       "      <td>4</td>\n",
       "      <td>1.0</td>\n",
       "    </tr>\n",
       "    <tr>\n",
       "      <th>Beaudette</th>\n",
       "      <td>1</td>\n",
       "      <td>1</td>\n",
       "      <td>1.0</td>\n",
       "    </tr>\n",
       "    <tr>\n",
       "      <th>Dipaolo</th>\n",
       "      <td>2</td>\n",
       "      <td>2</td>\n",
       "      <td>1.0</td>\n",
       "    </tr>\n",
       "    <tr>\n",
       "      <th>Bischoff</th>\n",
       "      <td>2</td>\n",
       "      <td>2</td>\n",
       "      <td>1.0</td>\n",
       "    </tr>\n",
       "    <tr>\n",
       "      <th>Trojanowski</th>\n",
       "      <td>1</td>\n",
       "      <td>1</td>\n",
       "      <td>1.0</td>\n",
       "    </tr>\n",
       "    <tr>\n",
       "      <th>Beedle</th>\n",
       "      <td>1</td>\n",
       "      <td>1</td>\n",
       "      <td>1.0</td>\n",
       "    </tr>\n",
       "    <tr>\n",
       "      <th>Borrego</th>\n",
       "      <td>2</td>\n",
       "      <td>2</td>\n",
       "      <td>1.0</td>\n",
       "    </tr>\n",
       "    <tr>\n",
       "      <th>Bork</th>\n",
       "      <td>4</td>\n",
       "      <td>4</td>\n",
       "      <td>1.0</td>\n",
       "    </tr>\n",
       "    <tr>\n",
       "      <th>Kamaka</th>\n",
       "      <td>2</td>\n",
       "      <td>2</td>\n",
       "      <td>1.0</td>\n",
       "    </tr>\n",
       "    <tr>\n",
       "      <th>Hillin</th>\n",
       "      <td>1</td>\n",
       "      <td>1</td>\n",
       "      <td>1.0</td>\n",
       "    </tr>\n",
       "    <tr>\n",
       "      <th>Auman</th>\n",
       "      <td>1</td>\n",
       "      <td>1</td>\n",
       "      <td>1.0</td>\n",
       "    </tr>\n",
       "    <tr>\n",
       "      <th>Howells</th>\n",
       "      <td>1</td>\n",
       "      <td>1</td>\n",
       "      <td>1.0</td>\n",
       "    </tr>\n",
       "    <tr>\n",
       "      <th>Pulley</th>\n",
       "      <td>4</td>\n",
       "      <td>4</td>\n",
       "      <td>1.0</td>\n",
       "    </tr>\n",
       "    <tr>\n",
       "      <th>Angelilli</th>\n",
       "      <td>2</td>\n",
       "      <td>2</td>\n",
       "      <td>1.0</td>\n",
       "    </tr>\n",
       "    <tr>\n",
       "      <th>Iraheta</th>\n",
       "      <td>2</td>\n",
       "      <td>2</td>\n",
       "      <td>1.0</td>\n",
       "    </tr>\n",
       "    <tr>\n",
       "      <th>Solesbee</th>\n",
       "      <td>4</td>\n",
       "      <td>4</td>\n",
       "      <td>1.0</td>\n",
       "    </tr>\n",
       "    <tr>\n",
       "      <th>Newland</th>\n",
       "      <td>1</td>\n",
       "      <td>1</td>\n",
       "      <td>1.0</td>\n",
       "    </tr>\n",
       "    <tr>\n",
       "      <th>Canavan</th>\n",
       "      <td>4</td>\n",
       "      <td>4</td>\n",
       "      <td>1.0</td>\n",
       "    </tr>\n",
       "  </tbody>\n",
       "</table>\n",
       "</div>"
      ],
      "text/plain": [
       "             Total  Survived  percent\n",
       "Homza            1         1      1.0\n",
       "Jankowiak        2         2      1.0\n",
       "Greig            4         4      1.0\n",
       "Beaudette        1         1      1.0\n",
       "Dipaolo          2         2      1.0\n",
       "Bischoff         2         2      1.0\n",
       "Trojanowski      1         1      1.0\n",
       "Beedle           1         1      1.0\n",
       "Borrego          2         2      1.0\n",
       "Bork             4         4      1.0\n",
       "Kamaka           2         2      1.0\n",
       "Hillin           1         1      1.0\n",
       "Auman            1         1      1.0\n",
       "Howells          1         1      1.0\n",
       "Pulley           4         4      1.0\n",
       "Angelilli        2         2      1.0\n",
       "Iraheta          2         2      1.0\n",
       "Solesbee         4         4      1.0\n",
       "Newland          1         1      1.0\n",
       "Canavan          4         4      1.0"
      ]
     },
     "execution_count": 166,
     "metadata": {},
     "output_type": "execute_result"
    }
   ],
   "source": [
    "df_surv_total.sort_values(by = 'percent', ascending = False).head(20)"
   ]
  },
  {
   "cell_type": "code",
   "execution_count": 167,
   "id": "a624f45f",
   "metadata": {},
   "outputs": [
    {
     "data": {
      "text/html": [
       "<div>\n",
       "<style scoped>\n",
       "    .dataframe tbody tr th:only-of-type {\n",
       "        vertical-align: middle;\n",
       "    }\n",
       "\n",
       "    .dataframe tbody tr th {\n",
       "        vertical-align: top;\n",
       "    }\n",
       "\n",
       "    .dataframe thead th {\n",
       "        text-align: right;\n",
       "    }\n",
       "</style>\n",
       "<table border=\"1\" class=\"dataframe\">\n",
       "  <thead>\n",
       "    <tr style=\"text-align: right;\">\n",
       "      <th></th>\n",
       "      <th>PassengerId</th>\n",
       "      <th>Survived</th>\n",
       "      <th>Pclass</th>\n",
       "      <th>Name</th>\n",
       "      <th>Sex</th>\n",
       "      <th>Age</th>\n",
       "      <th>SibSp</th>\n",
       "      <th>Parch</th>\n",
       "      <th>Ticket</th>\n",
       "      <th>Fare</th>\n",
       "      <th>Cabin</th>\n",
       "      <th>Embarked</th>\n",
       "      <th>First_name</th>\n",
       "      <th>surname</th>\n",
       "    </tr>\n",
       "  </thead>\n",
       "  <tbody>\n",
       "    <tr>\n",
       "      <th>2949</th>\n",
       "      <td>2949</td>\n",
       "      <td>1</td>\n",
       "      <td>2</td>\n",
       "      <td>Pulley, Lina</td>\n",
       "      <td>female</td>\n",
       "      <td>42.0</td>\n",
       "      <td>0</td>\n",
       "      <td>0</td>\n",
       "      <td>438229</td>\n",
       "      <td>14.28</td>\n",
       "      <td>NaN</td>\n",
       "      <td>S</td>\n",
       "      <td>Lina</td>\n",
       "      <td>Pulley</td>\n",
       "    </tr>\n",
       "    <tr>\n",
       "      <th>57265</th>\n",
       "      <td>57265</td>\n",
       "      <td>1</td>\n",
       "      <td>1</td>\n",
       "      <td>Pulley, Lisa</td>\n",
       "      <td>female</td>\n",
       "      <td>25.0</td>\n",
       "      <td>0</td>\n",
       "      <td>0</td>\n",
       "      <td>3851564</td>\n",
       "      <td>446.42</td>\n",
       "      <td>C9281</td>\n",
       "      <td>Q</td>\n",
       "      <td>Lisa</td>\n",
       "      <td>Pulley</td>\n",
       "    </tr>\n",
       "    <tr>\n",
       "      <th>60780</th>\n",
       "      <td>60780</td>\n",
       "      <td>1</td>\n",
       "      <td>1</td>\n",
       "      <td>Pulley, Kathleen</td>\n",
       "      <td>female</td>\n",
       "      <td>48.0</td>\n",
       "      <td>0</td>\n",
       "      <td>0</td>\n",
       "      <td>PC 12127</td>\n",
       "      <td>29.48</td>\n",
       "      <td>C9737</td>\n",
       "      <td>S</td>\n",
       "      <td>Kathleen</td>\n",
       "      <td>Pulley</td>\n",
       "    </tr>\n",
       "    <tr>\n",
       "      <th>74631</th>\n",
       "      <td>74631</td>\n",
       "      <td>1</td>\n",
       "      <td>2</td>\n",
       "      <td>Pulley, Donna</td>\n",
       "      <td>female</td>\n",
       "      <td>2.0</td>\n",
       "      <td>1</td>\n",
       "      <td>2</td>\n",
       "      <td>446080</td>\n",
       "      <td>11.84</td>\n",
       "      <td>NaN</td>\n",
       "      <td>S</td>\n",
       "      <td>Donna</td>\n",
       "      <td>Pulley</td>\n",
       "    </tr>\n",
       "  </tbody>\n",
       "</table>\n",
       "</div>"
      ],
      "text/plain": [
       "       PassengerId  Survived  Pclass              Name     Sex   Age  SibSp  \\\n",
       "2949          2949         1       2      Pulley, Lina  female  42.0      0   \n",
       "57265        57265         1       1      Pulley, Lisa  female  25.0      0   \n",
       "60780        60780         1       1  Pulley, Kathleen  female  48.0      0   \n",
       "74631        74631         1       2     Pulley, Donna  female   2.0      1   \n",
       "\n",
       "       Parch    Ticket    Fare  Cabin Embarked First_name surname  \n",
       "2949       0    438229   14.28    NaN        S       Lina  Pulley  \n",
       "57265      0   3851564  446.42  C9281        Q       Lisa  Pulley  \n",
       "60780      0  PC 12127   29.48  C9737        S   Kathleen  Pulley  \n",
       "74631      2    446080   11.84    NaN        S      Donna  Pulley  "
      ]
     },
     "execution_count": 167,
     "metadata": {},
     "output_type": "execute_result"
    }
   ],
   "source": [
    "df[df.surname == 'Pulley']"
   ]
  },
  {
   "cell_type": "markdown",
   "id": "087b2894",
   "metadata": {},
   "source": [
    "Предположу, что surname не являться достоверным признаком. Т.К. выборки по каждой фамилии не достаточно велики, что бы проводить статистический тест."
   ]
  },
  {
   "cell_type": "markdown",
   "id": "0f8022b8",
   "metadata": {},
   "source": [
    "## Проверим корреляцию между SibSp и Parch"
   ]
  },
  {
   "cell_type": "code",
   "execution_count": 168,
   "id": "03d43c3d",
   "metadata": {},
   "outputs": [
    {
     "data": {
      "text/html": [
       "<div>\n",
       "<style scoped>\n",
       "    .dataframe tbody tr th:only-of-type {\n",
       "        vertical-align: middle;\n",
       "    }\n",
       "\n",
       "    .dataframe tbody tr th {\n",
       "        vertical-align: top;\n",
       "    }\n",
       "\n",
       "    .dataframe thead th {\n",
       "        text-align: right;\n",
       "    }\n",
       "</style>\n",
       "<table border=\"1\" class=\"dataframe\">\n",
       "  <thead>\n",
       "    <tr style=\"text-align: right;\">\n",
       "      <th></th>\n",
       "      <th>SibSp</th>\n",
       "      <th>Parch</th>\n",
       "    </tr>\n",
       "  </thead>\n",
       "  <tbody>\n",
       "    <tr>\n",
       "      <th>SibSp</th>\n",
       "      <td>1.000000</td>\n",
       "      <td>0.213126</td>\n",
       "    </tr>\n",
       "    <tr>\n",
       "      <th>Parch</th>\n",
       "      <td>0.213126</td>\n",
       "      <td>1.000000</td>\n",
       "    </tr>\n",
       "  </tbody>\n",
       "</table>\n",
       "</div>"
      ],
      "text/plain": [
       "          SibSp     Parch\n",
       "SibSp  1.000000  0.213126\n",
       "Parch  0.213126  1.000000"
      ]
     },
     "execution_count": 168,
     "metadata": {},
     "output_type": "execute_result"
    }
   ],
   "source": [
    "df[['SibSp','Parch']].corr()"
   ]
  },
  {
   "cell_type": "markdown",
   "id": "26957be6",
   "metadata": {},
   "source": [
    "Корреляция между признаками низкая. Хотя признаки имеют похожий смысл."
   ]
  },
  {
   "cell_type": "markdown",
   "id": "5657da12",
   "metadata": {},
   "source": [
    "### Вывод"
   ]
  },
  {
   "cell_type": "markdown",
   "id": "801b09b1",
   "metadata": {},
   "source": [
    "Судя по графикам, самым определяющим фактором является пол пассажира. В первую очередь спасали женщин. Так же значимым фактором является Sibs.     \n",
    "Остальные факторы косвенно связаны с полого пассажира.\n",
    "Так же в дата сете замечено очень много дорогих билетов третьего и второго класса. Возможно это все выбросы, либо были ещё какие-то критерии что бы попасть в первый класс. Этот вопрос требует дальнейшего изучения.\n",
    "Из анализы убран признак Cabin, т.к. в признаке более 60 % пропуски. "
   ]
  }
 ],
 "metadata": {
  "kernelspec": {
   "display_name": "Python 3 (ipykernel)",
   "language": "python",
   "name": "python3"
  },
  "language_info": {
   "codemirror_mode": {
    "name": "ipython",
    "version": 3
   },
   "file_extension": ".py",
   "mimetype": "text/x-python",
   "name": "python",
   "nbconvert_exporter": "python",
   "pygments_lexer": "ipython3",
   "version": "3.9.7"
  }
 },
 "nbformat": 4,
 "nbformat_minor": 5
}
